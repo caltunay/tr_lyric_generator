{
  "nbformat": 4,
  "nbformat_minor": 0,
  "metadata": {
    "colab": {
      "name": "1 - TR Rap Lyrics Generator w/ cleaning.ipynb",
      "provenance": [],
      "collapsed_sections": [],
      "mount_file_id": "1w13bW0OAkHrPU9bONCI37GWOomFEg1w6",
      "authorship_tag": "ABX9TyMr0dCyGoQS1z5HjoAUTFXC",
      "include_colab_link": true
    },
    "kernelspec": {
      "name": "python3",
      "display_name": "Python 3"
    },
    "accelerator": "GPU"
  },
  "cells": [
    {
      "cell_type": "markdown",
      "metadata": {
        "id": "view-in-github",
        "colab_type": "text"
      },
      "source": [
        "<a href=\"https://colab.research.google.com/github/caltunay/tr_lyric_generator/blob/main/1_TR_Rap_Lyrics_Generator_w_cleaning.ipynb\" target=\"_parent\"><img src=\"https://colab.research.google.com/assets/colab-badge.svg\" alt=\"Open In Colab\"/></a>"
      ]
    },
    {
      "cell_type": "code",
      "metadata": {
        "id": "rQklFqJaMLBH"
      },
      "source": [
        ""
      ],
      "execution_count": null,
      "outputs": []
    },
    {
      "cell_type": "code",
      "metadata": {
        "id": "I4JqIzLt7sXn"
      },
      "source": [
        "import pandas as pd\r\n",
        "import numpy as np\r\n",
        "import re"
      ],
      "execution_count": null,
      "outputs": []
    },
    {
      "cell_type": "code",
      "metadata": {
        "id": "kTBJM_m97tAD"
      },
      "source": [
        "df = pd.read_json('/content/drive/MyDrive/Colab Notebooks/NLP/Song Lyric Generator/tr_songs -needs vocab clean-.json')"
      ],
      "execution_count": null,
      "outputs": []
    },
    {
      "cell_type": "code",
      "metadata": {
        "colab": {
          "base_uri": "https://localhost:8080/",
          "height": 302
        },
        "id": "nY7nDrCp7tH1",
        "outputId": "249e53c2-12f0-4cca-d9e9-278e100bc030"
      },
      "source": [
        "df.sample(5)"
      ],
      "execution_count": null,
      "outputs": [
        {
          "output_type": "execute_result",
          "data": {
            "text/html": [
              "<div>\n",
              "<style scoped>\n",
              "    .dataframe tbody tr th:only-of-type {\n",
              "        vertical-align: middle;\n",
              "    }\n",
              "\n",
              "    .dataframe tbody tr th {\n",
              "        vertical-align: top;\n",
              "    }\n",
              "\n",
              "    .dataframe thead th {\n",
              "        text-align: right;\n",
              "    }\n",
              "</style>\n",
              "<table border=\"1\" class=\"dataframe\">\n",
              "  <thead>\n",
              "    <tr style=\"text-align: right;\">\n",
              "      <th></th>\n",
              "      <th>Artist Name</th>\n",
              "      <th>Artist Page</th>\n",
              "      <th>Song Name</th>\n",
              "      <th>Song Link</th>\n",
              "      <th>Lyrics</th>\n",
              "      <th>Lyrics _Fixed Ls</th>\n",
              "      <th>Detected Lang</th>\n",
              "    </tr>\n",
              "  </thead>\n",
              "  <tbody>\n",
              "    <tr>\n",
              "      <th>17311</th>\n",
              "      <td>Özlem Ay</td>\n",
              "      <td>http://www.sarkisozlerihd.com/sarkici/ozlem-ay/</td>\n",
              "      <td>Adını Anınca</td>\n",
              "      <td>http://www.sarkisozlerihd.com/sarki-sozu/ozlem...</td>\n",
              "      <td>BiIemedim, bunu diIemedim sonumu\\n AnIadım bu...</td>\n",
              "      <td>Bilemedim, bunu dilemedim sonumu\\n Anladım bu...</td>\n",
              "      <td>tr</td>\n",
              "    </tr>\n",
              "    <tr>\n",
              "      <th>37418</th>\n",
              "      <td>Burcu Güneş</td>\n",
              "      <td>http://www.sarkisozlerihd.com/sarkici/burcu-gu...</td>\n",
              "      <td>Oflaya Oflaya</td>\n",
              "      <td>http://www.sarkisozlerihd.com/sarki-sozu/burcu...</td>\n",
              "      <td>Senden sonra beni bir tek geceIer anIadı\\n Bi...</td>\n",
              "      <td>Senden sonra beni bir tek geceler anladı\\n Bi...</td>\n",
              "      <td>tr</td>\n",
              "    </tr>\n",
              "    <tr>\n",
              "      <th>42193</th>\n",
              "      <td>Ahmet Şafak</td>\n",
              "      <td>http://www.sarkisozlerihd.com/sarkici/ahmet-sa...</td>\n",
              "      <td>Sen Bahtına Küs</td>\n",
              "      <td>http://www.sarkisozlerihd.com/sarki-sozu/ahmet...</td>\n",
              "      <td>Benim anam pembe beyaz yüzü ile\\n Oğul hakkın ...</td>\n",
              "      <td>Benim anam pembe beyaz yüzü ile\\n Oğul hakkın ...</td>\n",
              "      <td>tr</td>\n",
              "    </tr>\n",
              "    <tr>\n",
              "      <th>19614</th>\n",
              "      <td>Neşet Ertaş</td>\n",
              "      <td>http://www.sarkisozlerihd.com/sarkici/neset-er...</td>\n",
              "      <td>Cennette İnsan</td>\n",
              "      <td>http://www.sarkisozlerihd.com/sarki-sozu/neset...</td>\n",
              "      <td>GözIeri kör değiI kuIağı sağır\\n Bütün kainat...</td>\n",
              "      <td>Gözleri kör değil kulağı sağır\\n Bütün kainat...</td>\n",
              "      <td>tr</td>\n",
              "    </tr>\n",
              "    <tr>\n",
              "      <th>24313</th>\n",
              "      <td>Kıvırcık Ali</td>\n",
              "      <td>http://www.sarkisozlerihd.com/sarkici/kivircik...</td>\n",
              "      <td>Sen Yalan mıydın</td>\n",
              "      <td>http://www.sarkisozlerihd.com/sarki-sozu/kivir...</td>\n",
              "      <td>Nice kahır doIu dertIi günümde\\n Beni yaInız ...</td>\n",
              "      <td>Nice kahır dolu dertli günümde\\n Beni yalnız ...</td>\n",
              "      <td>tr</td>\n",
              "    </tr>\n",
              "  </tbody>\n",
              "</table>\n",
              "</div>"
            ],
            "text/plain": [
              "        Artist Name  ... Detected Lang\n",
              "17311      Özlem Ay  ...            tr\n",
              "37418   Burcu Güneş  ...            tr\n",
              "42193   Ahmet Şafak  ...            tr\n",
              "19614   Neşet Ertaş  ...            tr\n",
              "24313  Kıvırcık Ali  ...            tr\n",
              "\n",
              "[5 rows x 7 columns]"
            ]
          },
          "metadata": {
            "tags": []
          },
          "execution_count": 3
        }
      ]
    },
    {
      "cell_type": "code",
      "metadata": {
        "id": "S5tk0aau7tIc"
      },
      "source": [
        "rand_inds = np.random.randint(0, len(df)-1, 10)\r\n",
        "\r\n",
        "for i in rand_inds:\r\n",
        "    print(df['Lyrics _Fixed Ls'][i])\r\n",
        "    print('\\n========================\\n')"
      ],
      "execution_count": null,
      "outputs": []
    },
    {
      "cell_type": "code",
      "metadata": {
        "colab": {
          "base_uri": "https://localhost:8080/",
          "height": 54
        },
        "id": "s-q2Kk3n7tJn",
        "outputId": "08fdc7ec-0d5c-477f-a385-d8d290c89684"
      },
      "source": [
        "test = df['Lyrics _Fixed Ls'][rand_inds[0]]\r\n",
        "test"
      ],
      "execution_count": null,
      "outputs": [
        {
          "output_type": "execute_result",
          "data": {
            "application/vnd.google.colaboratory.intrinsic+json": {
              "type": "string"
            },
            "text/plain": [
              "' Bu sahilde o aşkı yaşamıştık seninle\\n Deli gibi özledim sevgilil seni bu yaz\\n Kalbimdeki anılar dönüşüyor ateşe\\n İçimdeki fırtına nasıl hasret güneşe\\nUnutmuuş olmazsın sende sevmiştin biraz\\n Hiçbirşeyin tadı yok sevgilim sensiz bu yaz\\nDalgalar silip almış kumsaldan adımızı\\n Başka renge boyanmış gördüm sandalımızı'"
            ]
          },
          "metadata": {
            "tags": []
          },
          "execution_count": 16
        }
      ]
    },
    {
      "cell_type": "code",
      "metadata": {
        "id": "5PdW_niw7tKO"
      },
      "source": [
        "# if \\n is followed by a space OR if the first char is space, replace.\r\n",
        "\r\n",
        "def space_replacer(text_):\r\n",
        "\r\n",
        "    text_list = list(text_)\r\n",
        "    \r\n",
        "    # if first char is space, replace \r\n",
        "    if text_list[0] == ' ':\r\n",
        "        text_list[0] = ''\r\n",
        "    \r\n",
        "    # replace if space is after line break \r\n",
        "    for ind, char in enumerate(text_list):\r\n",
        "        if char == ' ' and text_list[ind-1] == '\\n':\r\n",
        "            text_list[ind] = ''\r\n",
        "\r\n",
        "    return ''.join(text_list)"
      ],
      "execution_count": null,
      "outputs": []
    },
    {
      "cell_type": "code",
      "metadata": {
        "id": "-e6FeZVh7tKy"
      },
      "source": [
        "print(space_replacer(test))"
      ],
      "execution_count": null,
      "outputs": []
    },
    {
      "cell_type": "code",
      "metadata": {
        "id": "UKxc9kBh7tLZ"
      },
      "source": [
        "rand_inds2 = np.random.randint(0, len(df)-1, 100)\r\n",
        "\r\n",
        "for i in rand_inds2:\r\n",
        "    random_test = space_replacer(df['Lyrics _Fixed Ls'][i])\r\n",
        "    print(random_test)\r\n",
        "    print('\\n===========\\n')"
      ],
      "execution_count": null,
      "outputs": []
    },
    {
      "cell_type": "code",
      "metadata": {
        "id": "QVAc_dGh7tL-"
      },
      "source": [
        "'''Nakarat x3\r\n",
        "\r\n",
        "Verse\r\n",
        "\r\n",
        "Söz : Sezen Aksu\r\n",
        "Müzik : Sezen Aksu\r\n",
        "\r\n",
        "(anything in?)\r\n",
        "\r\n",
        "NARAKAT'''"
      ],
      "execution_count": null,
      "outputs": []
    },
    {
      "cell_type": "code",
      "metadata": {
        "id": "3xS94goi7tMh"
      },
      "source": [
        "df['Lyrics _Fixed Ls'] = df['Lyrics _Fixed Ls'].apply(lambda x: x.lower())"
      ],
      "execution_count": null,
      "outputs": []
    },
    {
      "cell_type": "code",
      "metadata": {
        "id": "mfy2kz-OpZMN"
      },
      "source": [
        "tr_songs = df[~df['Lyrics _Fixed Ls'].str.contains('verse|nakarat|söz :|müzik :')][['Artist Name', 'Lyrics _Fixed Ls', 'Song Name']].reset_index(drop = True)"
      ],
      "execution_count": null,
      "outputs": []
    },
    {
      "cell_type": "code",
      "metadata": {
        "colab": {
          "base_uri": "https://localhost:8080/",
          "height": 407
        },
        "id": "MDg8U8jkqcHZ",
        "outputId": "00494009-001e-4945-81a0-db238fcfc617"
      },
      "source": [
        "tr_songs"
      ],
      "execution_count": null,
      "outputs": [
        {
          "output_type": "execute_result",
          "data": {
            "text/html": [
              "<div>\n",
              "<style scoped>\n",
              "    .dataframe tbody tr th:only-of-type {\n",
              "        vertical-align: middle;\n",
              "    }\n",
              "\n",
              "    .dataframe tbody tr th {\n",
              "        vertical-align: top;\n",
              "    }\n",
              "\n",
              "    .dataframe thead th {\n",
              "        text-align: right;\n",
              "    }\n",
              "</style>\n",
              "<table border=\"1\" class=\"dataframe\">\n",
              "  <thead>\n",
              "    <tr style=\"text-align: right;\">\n",
              "      <th></th>\n",
              "      <th>Artist Name</th>\n",
              "      <th>Lyrics _Fixed Ls</th>\n",
              "      <th>Song Name</th>\n",
              "    </tr>\n",
              "  </thead>\n",
              "  <tbody>\n",
              "    <tr>\n",
              "      <th>0</th>\n",
              "      <td>Abdullah İnal</td>\n",
              "      <td>geçmiş zaman gelecek o an\\n bekle bekle nerde ...</td>\n",
              "      <td>Dünya</td>\n",
              "    </tr>\n",
              "    <tr>\n",
              "      <th>1</th>\n",
              "      <td>Abdurrahman Önül</td>\n",
              "      <td>geylani geylani\\n o resulün soyundandır abdul...</td>\n",
              "      <td>Geylani</td>\n",
              "    </tr>\n",
              "    <tr>\n",
              "      <th>2</th>\n",
              "      <td>Abdurrahman Önül</td>\n",
              "      <td>geceler sırdaşımdır secdeler gözyaşımdır\\n re...</td>\n",
              "      <td>Geceler Sırdaşım</td>\n",
              "    </tr>\n",
              "    <tr>\n",
              "      <th>3</th>\n",
              "      <td>Abdurrahman Önül</td>\n",
              "      <td>söyletiyor bülbülleri yaktırıyor gönülleri\\n ...</td>\n",
              "      <td>El Konyevi</td>\n",
              "    </tr>\n",
              "    <tr>\n",
              "      <th>4</th>\n",
              "      <td>Abdurrahman Önül</td>\n",
              "      <td>şu dünyanın oyununa aldanma ey nefsi serkeş\\n...</td>\n",
              "      <td>Ey Nefsi Serkeş</td>\n",
              "    </tr>\n",
              "    <tr>\n",
              "      <th>...</th>\n",
              "      <td>...</td>\n",
              "      <td>...</td>\n",
              "      <td>...</td>\n",
              "    </tr>\n",
              "    <tr>\n",
              "      <th>38785</th>\n",
              "      <td>Abdurrahman Önül</td>\n",
              "      <td>avrupa, avrupa dedikleri,\\n avrupa, avrupa de...</td>\n",
              "      <td>Ah Şu Avrupa</td>\n",
              "    </tr>\n",
              "    <tr>\n",
              "      <th>38786</th>\n",
              "      <td>Abdurrahman Önül</td>\n",
              "      <td>aşkınla yanar yürekler\\n dillerde sen medinem\\...</td>\n",
              "      <td>Ah Medinem</td>\n",
              "    </tr>\n",
              "    <tr>\n",
              "      <th>38787</th>\n",
              "      <td>Abdurrahman Önül</td>\n",
              "      <td>üzdüler seni çok kırdılar seni çok\\n genç yaşt...</td>\n",
              "      <td>Ağlama Zeynebim</td>\n",
              "    </tr>\n",
              "    <tr>\n",
              "      <th>38788</th>\n",
              "      <td>Abdurrahman Önül</td>\n",
              "      <td>ben sana susadım sana\\n i̇çsem seni kana kana...</td>\n",
              "      <td>Ah Medine</td>\n",
              "    </tr>\n",
              "    <tr>\n",
              "      <th>38789</th>\n",
              "      <td>Abdurrahman Önül</td>\n",
              "      <td>açılsın da yollar sana geleyim\\n öyle özledim...</td>\n",
              "      <td>Açılsın Yollar</td>\n",
              "    </tr>\n",
              "  </tbody>\n",
              "</table>\n",
              "<p>38790 rows × 3 columns</p>\n",
              "</div>"
            ],
            "text/plain": [
              "            Artist Name  ...         Song Name\n",
              "0         Abdullah İnal  ...             Dünya\n",
              "1      Abdurrahman Önül  ...           Geylani\n",
              "2      Abdurrahman Önül  ...  Geceler Sırdaşım\n",
              "3      Abdurrahman Önül  ...        El Konyevi\n",
              "4      Abdurrahman Önül  ...   Ey Nefsi Serkeş\n",
              "...                 ...  ...               ...\n",
              "38785  Abdurrahman Önül  ...      Ah Şu Avrupa\n",
              "38786  Abdurrahman Önül  ...        Ah Medinem\n",
              "38787  Abdurrahman Önül  ...   Ağlama Zeynebim\n",
              "38788  Abdurrahman Önül  ...         Ah Medine\n",
              "38789  Abdurrahman Önül  ...    Açılsın Yollar\n",
              "\n",
              "[38790 rows x 3 columns]"
            ]
          },
          "metadata": {
            "tags": []
          },
          "execution_count": 8
        }
      ]
    },
    {
      "cell_type": "code",
      "metadata": {
        "id": "SuGsiVoxqcKD"
      },
      "source": [
        "tr_songs['Clean Lyrics'] = tr_songs['Lyrics _Fixed Ls'].apply(space_replacer)"
      ],
      "execution_count": null,
      "outputs": []
    },
    {
      "cell_type": "code",
      "metadata": {
        "id": "xMBfO9VoqjIE"
      },
      "source": [
        "tr_songs\r\n"
      ],
      "execution_count": null,
      "outputs": []
    },
    {
      "cell_type": "code",
      "metadata": {
        "colab": {
          "base_uri": "https://localhost:8080/"
        },
        "id": "CyupdeRPqjKw",
        "outputId": "e0c27945-dadc-467a-bbd3-ef96edd59cec"
      },
      "source": [
        "rapciler = '''ezhel,gazapizm,ben fero,sagopa kajmer,ceza,ayben,killa hakan,kool savas,norm ender,şehinşah,sansar salvo,allâme,anil piyanci,contra,yener çevik,fuat ergin,server uraz,khontkar,şanışer,eypio,kolera,alpertunga koksal,sultana,tankurt manas,keişan,cihan ozdemir,kabus kerim,ozbi,ufo361,kubilay karça'''.split(',')\r\n",
        "rapciler"
      ],
      "execution_count": null,
      "outputs": [
        {
          "output_type": "execute_result",
          "data": {
            "text/plain": [
              "['ezhel',\n",
              " 'gazapizm',\n",
              " 'ben fero',\n",
              " 'sagopa kajmer',\n",
              " 'ceza',\n",
              " 'ayben',\n",
              " 'killa hakan',\n",
              " 'kool savas',\n",
              " 'norm ender',\n",
              " 'şehinşah',\n",
              " 'sansar salvo',\n",
              " 'allâme',\n",
              " 'anil piyanci',\n",
              " 'contra',\n",
              " 'yener çevik',\n",
              " 'fuat ergin',\n",
              " 'server uraz',\n",
              " 'khontkar',\n",
              " 'şanışer',\n",
              " 'eypio',\n",
              " 'kolera',\n",
              " 'alpertunga koksal',\n",
              " 'sultana',\n",
              " 'tankurt manas',\n",
              " 'keişan',\n",
              " 'cihan ozdemir',\n",
              " 'kabus kerim',\n",
              " 'ozbi',\n",
              " 'ufo361',\n",
              " 'kubilay karça']"
            ]
          },
          "metadata": {
            "tags": []
          },
          "execution_count": 7
        }
      ]
    },
    {
      "cell_type": "code",
      "metadata": {
        "colab": {
          "base_uri": "https://localhost:8080/"
        },
        "id": "3QbfDcy5qjNM",
        "outputId": "a940c357-8415-4a3d-c5fb-4a5368bba9d5"
      },
      "source": [
        "rapper_filter = list()\r\n",
        "\r\n",
        "for rapci in rapciler:\r\n",
        "    if rapci in tr_songs['Artist Name'].apply(lambda x:x.lower()).unique():\r\n",
        "        rapper_filter.append(rapci)\r\n",
        "        # print(rapci)\r\n",
        "\r\n",
        "print(rapper_filter)"
      ],
      "execution_count": null,
      "outputs": [
        {
          "output_type": "stream",
          "text": [
            "['ezhel', 'gazapizm', 'ben fero', 'sagopa kajmer', 'ceza', 'ayben', 'killa hakan', 'norm ender', 'şehinşah', 'sansar salvo', 'contra', 'yener çevik', 'fuat ergin', 'server uraz', 'khontkar', 'şanışer', 'eypio', 'kolera', 'tankurt manas', 'keişan', 'ozbi', 'kubilay karça']\n"
          ],
          "name": "stdout"
        }
      ]
    },
    {
      "cell_type": "code",
      "metadata": {
        "id": "8YD0s0QBqjPZ"
      },
      "source": [
        "tr_songs['artist name - lower case'] = tr_songs['Artist Name'].apply(lambda x : x.lower())"
      ],
      "execution_count": null,
      "outputs": []
    },
    {
      "cell_type": "code",
      "metadata": {
        "colab": {
          "base_uri": "https://localhost:8080/",
          "height": 407
        },
        "id": "S3lTwV0WrVZ7",
        "outputId": "969226a5-a3b8-4c1d-8f90-7af8230f243f"
      },
      "source": [
        "rap_songs = tr_songs[tr_songs['artist name - lower case'].isin(rapper_filter)].reset_index(drop = True)\r\n",
        "rap_songs"
      ],
      "execution_count": null,
      "outputs": [
        {
          "output_type": "execute_result",
          "data": {
            "text/html": [
              "<div>\n",
              "<style scoped>\n",
              "    .dataframe tbody tr th:only-of-type {\n",
              "        vertical-align: middle;\n",
              "    }\n",
              "\n",
              "    .dataframe tbody tr th {\n",
              "        vertical-align: top;\n",
              "    }\n",
              "\n",
              "    .dataframe thead th {\n",
              "        text-align: right;\n",
              "    }\n",
              "</style>\n",
              "<table border=\"1\" class=\"dataframe\">\n",
              "  <thead>\n",
              "    <tr style=\"text-align: right;\">\n",
              "      <th></th>\n",
              "      <th>Artist Name</th>\n",
              "      <th>Lyrics _Fixed Ls</th>\n",
              "      <th>Song Name</th>\n",
              "      <th>Clean Lyrics</th>\n",
              "      <th>artist name - lower case</th>\n",
              "    </tr>\n",
              "  </thead>\n",
              "  <tbody>\n",
              "    <tr>\n",
              "      <th>0</th>\n",
              "      <td>Ceza</td>\n",
              "      <td>hadi boşa zerket derken, yine boşa zerkettim ...</td>\n",
              "      <td>Zerk-i Ziyan</td>\n",
              "      <td>hadi boşa zerket derken, yine boşa zerkettim k...</td>\n",
              "      <td>ceza</td>\n",
              "    </tr>\n",
              "    <tr>\n",
              "      <th>1</th>\n",
              "      <td>Eypio</td>\n",
              "      <td>yes yes yow , yes yes yow apo rap yapıyomuş en...</td>\n",
              "      <td>Zeytinburnu</td>\n",
              "      <td>yes yes yow , yes yes yow apo rap yapıyomuş en...</td>\n",
              "      <td>eypio</td>\n",
              "    </tr>\n",
              "    <tr>\n",
              "      <th>2</th>\n",
              "      <td>Eypio</td>\n",
              "      <td>yakarsa güneş söyle var mı orda yanmayan\\n i̇n...</td>\n",
              "      <td>Yorulmadan</td>\n",
              "      <td>yakarsa güneş söyle var mı orda yanmayan\\ni̇na...</td>\n",
              "      <td>eypio</td>\n",
              "    </tr>\n",
              "    <tr>\n",
              "      <th>3</th>\n",
              "      <td>Eypio</td>\n",
              "      <td>nıgıçın bana elime kelime kalamam yutacak eli...</td>\n",
              "      <td>Zeytinburnu Elini Kaldır</td>\n",
              "      <td>nıgıçın bana elime kelime kalamam yutacak elin...</td>\n",
              "      <td>eypio</td>\n",
              "    </tr>\n",
              "    <tr>\n",
              "      <th>4</th>\n",
              "      <td>Keişan</td>\n",
              "      <td>cebimizde taşıyoruz parayı, görüyosun yanımda ...</td>\n",
              "      <td>Ne Bakıyon Dayı Dayı (ft. Anıl Piyancı)</td>\n",
              "      <td>cebimizde taşıyoruz parayı, görüyosun yanımda ...</td>\n",
              "      <td>keişan</td>\n",
              "    </tr>\n",
              "    <tr>\n",
              "      <th>...</th>\n",
              "      <td>...</td>\n",
              "      <td>...</td>\n",
              "      <td>...</td>\n",
              "      <td>...</td>\n",
              "      <td>...</td>\n",
              "    </tr>\n",
              "    <tr>\n",
              "      <th>985</th>\n",
              "      <td>Ayben</td>\n",
              "      <td>yolda yuruyemez kadin her adimda bir hece laf...</td>\n",
              "      <td>Disi Kopek Hep Kuyruk Sallamaz</td>\n",
              "      <td>yolda yuruyemez kadin her adimda bir hece laf ...</td>\n",
              "      <td>ayben</td>\n",
              "    </tr>\n",
              "    <tr>\n",
              "      <th>986</th>\n",
              "      <td>Ayben</td>\n",
              "      <td>son kez zorlanmadan ve hor görülmeden en başta...</td>\n",
              "      <td>Başkan</td>\n",
              "      <td>son kez zorlanmadan ve hor görülmeden en başta...</td>\n",
              "      <td>ayben</td>\n",
              "    </tr>\n",
              "    <tr>\n",
              "      <th>987</th>\n",
              "      <td>Ayben</td>\n",
              "      <td>ayben : üsküdar\\n fuat : batı berlin\\n ayben :...</td>\n",
              "      <td>Aybende (ft. Fuat)</td>\n",
              "      <td>ayben : üsküdar\\nfuat : batı berlin\\nayben :kı...</td>\n",
              "      <td>ayben</td>\n",
              "    </tr>\n",
              "    <tr>\n",
              "      <th>988</th>\n",
              "      <td>Ayben</td>\n",
              "      <td>geri dönmek ister aynen\\n beni geri al der ayn...</td>\n",
              "      <td>Aşk Olsun</td>\n",
              "      <td>geri dönmek ister aynen\\nbeni geri al der aynı...</td>\n",
              "      <td>ayben</td>\n",
              "    </tr>\n",
              "    <tr>\n",
              "      <th>989</th>\n",
              "      <td>Ayben</td>\n",
              "      <td>[ayben]\\ntop kimlerde bekler sağlam bekler ne ...</td>\n",
              "      <td>Araba (ft. Ceza)</td>\n",
              "      <td>[ayben]\\ntop kimlerde bekler sağlam bekler ne ...</td>\n",
              "      <td>ayben</td>\n",
              "    </tr>\n",
              "  </tbody>\n",
              "</table>\n",
              "<p>990 rows × 5 columns</p>\n",
              "</div>"
            ],
            "text/plain": [
              "    Artist Name  ... artist name - lower case\n",
              "0          Ceza  ...                     ceza\n",
              "1         Eypio  ...                    eypio\n",
              "2         Eypio  ...                    eypio\n",
              "3         Eypio  ...                    eypio\n",
              "4        Keişan  ...                   keişan\n",
              "..          ...  ...                      ...\n",
              "985       Ayben  ...                    ayben\n",
              "986       Ayben  ...                    ayben\n",
              "987       Ayben  ...                    ayben\n",
              "988       Ayben  ...                    ayben\n",
              "989       Ayben  ...                    ayben\n",
              "\n",
              "[990 rows x 5 columns]"
            ]
          },
          "metadata": {
            "tags": []
          },
          "execution_count": 10
        }
      ]
    },
    {
      "cell_type": "code",
      "metadata": {
        "id": "djjbdd89rVia"
      },
      "source": [
        "for i in np.random.randint(0, len(rap_songs), 10):\r\n",
        "    print(rap_songs['Clean Lyrics'][i])\r\n",
        "    print('\\n=================\\n')\r\n"
      ],
      "execution_count": null,
      "outputs": []
    },
    {
      "cell_type": "code",
      "metadata": {
        "colab": {
          "base_uri": "https://localhost:8080/"
        },
        "id": "RPQ3k--rrVkx",
        "outputId": "b3478079-0487-4d98-fd5f-6890f36c2e8e"
      },
      "source": [
        "rap_songs['Clean Lyrics'] = rap_songs['Clean Lyrics'].apply(lambda x: re.sub('\\[.*\\]|\\(.*\\)', '', x)) # Clean Lyrics from names in paranthesis\r\n",
        "rap_songs['Clean Lyrics']"
      ],
      "execution_count": null,
      "outputs": [
        {
          "output_type": "execute_result",
          "data": {
            "text/plain": [
              "0      hadi boşa zerket derken, yine boşa zerkettim k...\n",
              "1      yes yes yow , yes yes yow apo rap yapıyomuş en...\n",
              "2      yakarsa güneş söyle var mı orda yanmayan\\ni̇na...\n",
              "3      nıgıçın bana elime kelime kalamam yutacak elin...\n",
              "4      cebimizde taşıyoruz parayı, görüyosun yanımda ...\n",
              "                             ...                        \n",
              "985    yolda yuruyemez kadin her adimda bir hece laf ...\n",
              "986    son kez zorlanmadan ve hor görülmeden en başta...\n",
              "987    ayben : üsküdar\\nfuat : batı berlin\\nayben :kı...\n",
              "988    geri dönmek ister aynen\\nbeni geri al der aynı...\n",
              "989    \\ntop kimlerde bekler sağlam bekler ne mıc ayb...\n",
              "Name: Clean Lyrics, Length: 990, dtype: object"
            ]
          },
          "metadata": {
            "tags": []
          },
          "execution_count": 11
        }
      ]
    },
    {
      "cell_type": "code",
      "metadata": {
        "id": "3SD9B8PprVnI"
      },
      "source": [
        "for i in np.random.randint(0, len(rap_songs), 10):\r\n",
        "    print(rap_songs['Clean Lyrics'][i])\r\n",
        "    print('\\n=================\\n')"
      ],
      "execution_count": null,
      "outputs": []
    },
    {
      "cell_type": "code",
      "metadata": {
        "colab": {
          "base_uri": "https://localhost:8080/"
        },
        "id": "PI2gKd_7ybXo",
        "outputId": "552dba61-7662-44f8-cf0b-e1b81d97193e"
      },
      "source": [
        "rap_songs['Clean Lyrics'] = rap_songs['Clean Lyrics'].apply(lambda x: re.sub('x\\d', '', x)) # Clean Lyrics from x2 x3 ... \r\n",
        "rap_songs['Clean Lyrics']"
      ],
      "execution_count": null,
      "outputs": [
        {
          "output_type": "execute_result",
          "data": {
            "text/plain": [
              "0      hadi boşa zerket derken, yine boşa zerkettim k...\n",
              "1      yes yes yow , yes yes yow apo rap yapıyomuş en...\n",
              "2      yakarsa güneş söyle var mı orda yanmayan\\ni̇na...\n",
              "3      nıgıçın bana elime kelime kalamam yutacak elin...\n",
              "4      cebimizde taşıyoruz parayı, görüyosun yanımda ...\n",
              "                             ...                        \n",
              "985    yolda yuruyemez kadin her adimda bir hece laf ...\n",
              "986    son kez zorlanmadan ve hor görülmeden en başta...\n",
              "987    ayben : üsküdar\\nfuat : batı berlin\\nayben :kı...\n",
              "988    geri dönmek ister aynen\\nbeni geri al der aynı...\n",
              "989    \\ntop kimlerde bekler sağlam bekler ne mıc ayb...\n",
              "Name: Clean Lyrics, Length: 990, dtype: object"
            ]
          },
          "metadata": {
            "tags": []
          },
          "execution_count": 12
        }
      ]
    },
    {
      "cell_type": "code",
      "metadata": {
        "id": "Ms2ftWY1ybZy"
      },
      "source": [
        "for i in np.random.randint(0, len(rap_songs), 10):\r\n",
        "    print(rap_songs['Clean Lyrics'][i])\r\n",
        "    print('\\n=================\\n')"
      ],
      "execution_count": null,
      "outputs": []
    },
    {
      "cell_type": "code",
      "metadata": {
        "colab": {
          "base_uri": "https://localhost:8080/"
        },
        "id": "cO6kq6NUNB2v",
        "outputId": "17babe88-ba70-4f4b-c1d4-db17b6243bbf"
      },
      "source": [
        "rap_songs[rap_songs['Clean Lyrics'].str.contains('\\&')]['Clean Lyrics']"
      ],
      "execution_count": null,
      "outputs": [
        {
          "output_type": "execute_result",
          "data": {
            "text/plain": [
              "5      lamborghini, gucci, prada\\nbunları istiyorum a...\n",
              "155    psikopat yazar 2013’ten. depresyondan manik dö...\n",
              "191    magazin muhabirleri henüz kapıda yok evet ama ...\n",
              "377    arkada kalmış gözlerin sahipleri dertte\\nyumur...\n",
              "403    \\nben uyku dolu bu gözlerimle baktım ahalime\\n...\n",
              "407    direten fikrimde çıkan isyanı bastıracak ferma...\n",
              "438    böyle bir şarkı yok\\nhttp:&&sarki.alternatifim...\n",
              "511    ceza & killa hakan \\nceza:\\nkalkış için izin ...\n",
              "522    ceza & killa hakan:\\nyıkılmamış kaleler duruyo...\n",
              "548    rapi bilin ondan sonra konussun flowu oturdun ...\n",
              "583    \\nas fate would have if here comes a triple th...\n",
              "593    sago=başla başka bir hikayeden söz et canım sı...\n",
              "620    dünya alti milyar yaşinda nazi ideolojisi başi...\n",
              "625    ezik mic check, hirsiz mic check\\nfuat seni çe...\n",
              "632    fuat: yanlış yolda kayboldu,doğrular hiç oldu,...\n",
              "637    5-0\\noynadigini görürsem s**idim s**idim,\\nomu...\n",
              "689    tamamen hesaben kurşun nigga mamen\\namin yada ...\n",
              "715    tamamen hesaben kurşun nigga mamen\\namin yada ...\n",
              "770    göz yaşlarım gibiydi sana olan özlemim\\nkoca a...\n",
              "781    ey gökyüzü\n",
              "aydınlık mısın benim kadar ve karan...\n",
              "Name: Clean Lyrics, dtype: object"
            ]
          },
          "metadata": {
            "tags": []
          },
          "execution_count": 92
        }
      ]
    },
    {
      "cell_type": "code",
      "metadata": {
        "id": "dWise2TZNB7K"
      },
      "source": [
        "for song in rap_songs[rap_songs['artist name - lower case'].isin(['killa hakan'])]['Clean Lyrics']:\r\n",
        "    print(song)\r\n",
        "    print('\\n==========\\n')"
      ],
      "execution_count": null,
      "outputs": []
    },
    {
      "cell_type": "code",
      "metadata": {
        "colab": {
          "base_uri": "https://localhost:8080/"
        },
        "id": "jMStRCEfqcL5",
        "outputId": "cc57ace3-fa0f-476c-bcd3-2af868f0533c"
      },
      "source": [
        "rap_songs.groupby('Artist Name').size()"
      ],
      "execution_count": null,
      "outputs": [
        {
          "output_type": "execute_result",
          "data": {
            "text/plain": [
              "Artist Name\n",
              "Ayben             25\n",
              "Ben Fero          10\n",
              "Ceza             116\n",
              "Contra            66\n",
              "Eypio             66\n",
              "Ezhel             36\n",
              "Fuat Ergin        27\n",
              "Gazapizm          37\n",
              "Keişan             3\n",
              "Khontkar           7\n",
              "Killa Hakan       58\n",
              "Kolera            50\n",
              "Kubilay Karça      3\n",
              "Norm Ender        40\n",
              "Ozbi               4\n",
              "Sagopa Kajmer    113\n",
              "Sansar Salvo     122\n",
              "Server Uraz       17\n",
              "Tankurt Manas     33\n",
              "Yener Çevik       26\n",
              "Şanışer           70\n",
              "Şehinşah          61\n",
              "dtype: int64"
            ]
          },
          "metadata": {
            "tags": []
          },
          "execution_count": 95
        }
      ]
    },
    {
      "cell_type": "code",
      "metadata": {
        "id": "-_vXJt-R7tTf"
      },
      "source": [
        "weird_chars2 = [\r\n",
        " '\\<',# r with ''\r\n",
        " '\\=',# r with ''\r\n",
        " '\\>',# r with ''\r\n",
        " '\\_',# r with ''\r\n",
        " '\\$',# r with ''\r\n",
        " '\\%',# r with ''\r\n",
        " '\\&',# r with ''\r\n",
        " '\\(',# r with ''\r\n",
        " '\\)',# r with ''\r\n",
        " '\\*',# r with ''\r\n",
        " '\\+',# r with ''\r\n",
        " '\\-',# r with ''\r\n",
        " '\\{',# r with ''\r\n",
        " '\\}',# r with ''\r\n",
        " '\\~', # r with ''\r\n",
        " '\\\\x80', # r with ''\r\n",
        " '\\\\x85', # r with ''\r\n",
        " '\\\\x91', # r with ''\r\n",
        " '\\\\x94', # r with ''\r\n",
        " '\\\\x96', # r with ''\r\n",
        " '\\¤',# r with ''\r\n",
        " '\\\\u2005', # r with space\r\n",
        " '\\—',# r with ''\r\n",
        " '\\\\u205f', # r with space\r\n",
        " '\\\\ufeff', # r with space\r\n",
        " '\\�', # r with ''\r\n",
        " '\\😀', # r with ''\r\n",
        " '\\🙂'# r with ''\r\n",
        " '\\n——————————-\\\\'\r\n",
        " 'hahahahahaahahahahahahahahahahahahaahahahahahahaha',\r\n",
        " 'şehi̇nşah\\n——————————-\\n',\r\n",
        " 'şehi̇nşah\\n————————————-\\\\',\r\n",
        " 'şanlşer\\n———————–\\\\']"
      ],
      "execution_count": null,
      "outputs": []
    },
    {
      "cell_type": "code",
      "metadata": {
        "colab": {
          "base_uri": "https://localhost:8080/",
          "height": 35
        },
        "id": "Dg6rEyFQ7tUi",
        "outputId": "d7a0faf3-6ee6-4f12-83dd-952c0bdfff24"
      },
      "source": [
        "''.join(weird_chars)"
      ],
      "execution_count": null,
      "outputs": [
        {
          "output_type": "execute_result",
          "data": {
            "application/vnd.google.colaboratory.intrinsic+json": {
              "type": "string"
            },
            "text/plain": [
              "'\\\\<\\\\=\\\\>\\\\_\\\\$\\\\%\\\\&\\\\(\\\\)\\\\*\\\\+\\\\-\\\\{\\\\}\\\\~\\\\x80\\\\x85\\\\x91\\\\x94\\\\x96\\\\¤\\\\à\\\\â\\\\ä\\\\ç\\\\é\\\\î\\\\û\\\\u2005\\\\–\\\\—\\\\…\\\\u205f\\\\ufeff\\\\�\\\\😀\\\\🙂'"
            ]
          },
          "metadata": {
            "tags": []
          },
          "execution_count": 100
        }
      ]
    },
    {
      "cell_type": "code",
      "metadata": {
        "colab": {
          "base_uri": "https://localhost:8080/"
        },
        "id": "p9z8aOwh7tVH",
        "outputId": "6c992090-0c0b-48f7-cb57-53177e40684a"
      },
      "source": [
        "rap_songs.iloc[0:511,3]"
      ],
      "execution_count": null,
      "outputs": [
        {
          "output_type": "execute_result",
          "data": {
            "text/plain": [
              "0      hadi boşa zerket derken, yine boşa zerkettim k...\n",
              "1      yes yes yow , yes yes yow apo rap yapıyomuş en...\n",
              "2      yakarsa güneş söyle var mı orda yanmayan\\ni̇na...\n",
              "3      nıgıçın bana elime kelime kalamam yutacak elin...\n",
              "4      cebimizde taşıyoruz parayı, görüyosun yanımda ...\n",
              "                             ...                        \n",
              "506    ben fedakâr gece nöbet hapis koğuş\\nben gece k...\n",
              "507    *kaplanı tadacan\\n*kaplanı tadıcan\\n*kaplanı t...\n",
              "508    üşüyorum dedin gittin baktım buzlar üstünde ka...\n",
              "509    hedefimi göze aldim iyi nisanciyim vuracagim\\n...\n",
              "510    zaman geçmek bilmiyor sanki\\nbazen yerinde dur...\n",
              "Name: Clean Lyrics, Length: 511, dtype: object"
            ]
          },
          "metadata": {
            "tags": []
          },
          "execution_count": 108
        }
      ]
    },
    {
      "cell_type": "code",
      "metadata": {
        "id": "y-F1R9GE7tVs"
      },
      "source": [
        "rap_songs = rap_songs.drop(axis = 0, index = [511, 512]).reset_index(drop = True)"
      ],
      "execution_count": null,
      "outputs": []
    },
    {
      "cell_type": "code",
      "metadata": {
        "id": "oZQ2LvYm7tYG"
      },
      "source": [
        "set(''.join(rap_songs['Clean Lyrics'].apply(lambda x: re.sub('|'.join(testchars), '', x))))"
      ],
      "execution_count": null,
      "outputs": []
    },
    {
      "cell_type": "code",
      "metadata": {
        "id": "PytGsKCQ7tZQ"
      },
      "source": [
        "rap_songs['Clean Lyrics'] = rap_songs['Clean Lyrics'].apply(lambda x: re.sub('\\{|\\}|\\)|\\(|\\||\\*|~|\\/|\\+|\\$|\\&|\\%|\\<|\\>|=|\\?|_|`|¤|\\x80|\\x85|\\x91|\\x94|\\u2005|\\u205f|\\ufeff|�|😀|🙂|à|â', '', x))"
      ],
      "execution_count": null,
      "outputs": []
    },
    {
      "cell_type": "code",
      "metadata": {
        "id": "KSQxHYCl7tZ1"
      },
      "source": [
        "rap_songs['Clean Lyrics'].reset_index(drop = True, inplace = True)"
      ],
      "execution_count": null,
      "outputs": []
    },
    {
      "cell_type": "code",
      "metadata": {
        "id": "wJGySUIL7ta_"
      },
      "source": [
        "digits = ['0',\r\n",
        " '1',\r\n",
        " '2',\r\n",
        " '3',\r\n",
        " '4',\r\n",
        " '5',\r\n",
        " '6',\r\n",
        " '7',\r\n",
        " '8',\r\n",
        " '9']\r\n",
        "\r\n",
        "for i in np.random.randint(0, len(rap_songs[rap_songs['Clean Lyrics'].str.contains('|'.join(digits))]['Clean Lyrics'])-1, 10):\r\n",
        "    print(rap_songs[rap_songs['Clean Lyrics'].str.contains('|'.join(digits))]['Clean Lyrics'].reset_index(drop=True)[i])\r\n",
        "    print('\\n==========\\n')"
      ],
      "execution_count": null,
      "outputs": []
    },
    {
      "cell_type": "code",
      "metadata": {
        "id": "Fj779pe5YPot"
      },
      "source": [
        "lyrics = rap_songs['Clean Lyrics'].sample(frac = .7).reset_index(drop = True)"
      ],
      "execution_count": null,
      "outputs": []
    },
    {
      "cell_type": "code",
      "metadata": {
        "id": "AU6h7Xz47tcI"
      },
      "source": [
        "vocab = sorted(set(''.join(lyrics)))"
      ],
      "execution_count": null,
      "outputs": []
    },
    {
      "cell_type": "code",
      "metadata": {
        "id": "YRgfbslL7tcy"
      },
      "source": [
        "char_to_ind = {char:ind for ind, char in enumerate(vocab)}\r\n",
        "ind_to_char = {ind:char for ind, char in enumerate(vocab)}"
      ],
      "execution_count": null,
      "outputs": []
    },
    {
      "cell_type": "code",
      "metadata": {
        "id": "H9z5yI0A7te7"
      },
      "source": [
        "max_len = 30\r\n",
        "input_list = []\r\n",
        "target_list = []\r\n",
        "\r\n",
        "for song in lyrics:\r\n",
        "    for char_ind in range(0, len(song) - max_len):\r\n",
        "        input_list.append(song[char_ind : char_ind + max_len])\r\n",
        "        target_list.append(song[char_ind + max_len])"
      ],
      "execution_count": null,
      "outputs": []
    },
    {
      "cell_type": "code",
      "metadata": {
        "colab": {
          "base_uri": "https://localhost:8080/"
        },
        "id": "R04yC9bT7tfo",
        "outputId": "19fa79af-94f2-412b-e0d0-bc6bbc487e5a"
      },
      "source": [
        "print(len(input_list), len(target_list))"
      ],
      "execution_count": null,
      "outputs": [
        {
          "output_type": "stream",
          "text": [
            "1146360 1146360\n"
          ],
          "name": "stdout"
        }
      ]
    },
    {
      "cell_type": "code",
      "metadata": {
        "id": "taUm-cwU7tgZ"
      },
      "source": [
        "x_arr = np.zeros((len(input_list), max_len, len(vocab) ), dtype = 'float32')\r\n",
        "y_arr = np.zeros((len(target_list), len(vocab)), dtype = 'float32')\r\n",
        "\r\n",
        "\r\n",
        "for ind_song, song in enumerate(input_list):\r\n",
        "    for ind_char, char in enumerate(song):\r\n",
        "        x_arr[ind_song, ind_char, char_to_ind[char]] = 1\r\n",
        "    y_arr[ind_song , char_to_ind[target_list[ind_song]]] = 1"
      ],
      "execution_count": null,
      "outputs": []
    },
    {
      "cell_type": "code",
      "metadata": {
        "id": "gCf7hcjx7thN"
      },
      "source": [
        "# create baseline model\r\n",
        "from tensorflow.keras.layers import LSTM, Dense, Dropout\r\n",
        "from tensorflow.keras.models import Sequential\r\n",
        "import sys\r\n",
        "from tensorflow.keras.callbacks import LambdaCallback, EarlyStopping, ModelCheckpoint\r\n",
        "from tensorflow.compat.v1.keras.layers import CuDNNLSTM"
      ],
      "execution_count": null,
      "outputs": []
    },
    {
      "cell_type": "code",
      "metadata": {
        "colab": {
          "base_uri": "https://localhost:8080/"
        },
        "id": "UxRbeMax7thz",
        "outputId": "f129b5f3-3e11-42d8-b9e5-4e19eb9ac8eb"
      },
      "source": [
        "model2 = Sequential()\r\n",
        "\r\n",
        "model2.add(CuDNNLSTM(units = 512, input_shape = (max_len, len(vocab)), return_sequences = True))\r\n",
        "model2.add(Dropout(.2))\r\n",
        "model2.add(CuDNNLSTM(units = 512, return_sequences = True))\r\n",
        "model2.add(Dropout(.2))\r\n",
        "model2.add(CuDNNLSTM(units = 512))#, return_sequences = True))\r\n",
        "model2.add(Dropout(.2))\r\n",
        "# model2.add(CuDNNLSTM(units = 128, return_sequences = True))\r\n",
        "# model2.add(Dropout(.2))\r\n",
        "# model2.add(CuDNNLSTM(units = 128, return_sequences = True))\r\n",
        "# model2.add(Dropout(.2))\r\n",
        "# model2.add(CuDNNLSTM(units = 128))\r\n",
        "# model2.add(Dropout(.2))\r\n",
        "\r\n",
        "model2.add(Dense(len(vocab), activation = 'softmax'))\r\n",
        "\r\n",
        "model2.compile(loss = 'categorical_crossentropy', optimizer = 'adam', metrics = ['accuracy'])\r\n",
        "model2.summary()"
      ],
      "execution_count": null,
      "outputs": [
        {
          "output_type": "stream",
          "text": [
            "Model: \"sequential\"\n",
            "_________________________________________________________________\n",
            "Layer (type)                 Output Shape              Param #   \n",
            "=================================================================\n",
            "cu_dnnlstm (CuDNNLSTM)       (None, 30, 512)           1183744   \n",
            "_________________________________________________________________\n",
            "dropout (Dropout)            (None, 30, 512)           0         \n",
            "_________________________________________________________________\n",
            "cu_dnnlstm_1 (CuDNNLSTM)     (None, 30, 512)           2101248   \n",
            "_________________________________________________________________\n",
            "dropout_1 (Dropout)          (None, 30, 512)           0         \n",
            "_________________________________________________________________\n",
            "cu_dnnlstm_2 (CuDNNLSTM)     (None, 512)               2101248   \n",
            "_________________________________________________________________\n",
            "dropout_2 (Dropout)          (None, 512)               0         \n",
            "_________________________________________________________________\n",
            "dense (Dense)                (None, 64)                32832     \n",
            "=================================================================\n",
            "Total params: 5,419,072\n",
            "Trainable params: 5,419,072\n",
            "Non-trainable params: 0\n",
            "_________________________________________________________________\n"
          ],
          "name": "stdout"
        }
      ]
    },
    {
      "cell_type": "code",
      "metadata": {
        "id": "cTnbZwTZ7tiX"
      },
      "source": [
        "def sample(preds, temperature = 1.0):\r\n",
        "    # helper to sample index from a prob array\r\n",
        "    preds = np.asarray(preds).astype('float64')\r\n",
        "    preds = np.log(preds) / temperature\r\n",
        "\r\n",
        "    preds = np.exp(preds) / np.sum(np.exp(preds))\r\n",
        "    probas = np.random.multinomial(1, preds, 1)\r\n",
        "    return np.argmax(probas)\r\n",
        "\r\n",
        "def on_epoch_end2(epoch, _):\r\n",
        "\r\n",
        "    # function invoked at end of each epoch to print generated text\r\n",
        "    print()\r\n",
        "    print('----Generating text after epoch %d' % epoch)\r\n",
        "\r\n",
        "    start_index = 0\r\n",
        "    # text_starter = np.random.randint(0, len(indie_lyrics_sampled)-100)\r\n",
        "    # text_ender = text_starter + 99 \r\n",
        "    # lyric_ = text_[text_starter : text_ender]  # select random part of lyrics\r\n",
        "    \r\n",
        "    random_song_ind = np.random.randint(0, len(lyrics)-1)\r\n",
        "    random_song = lyrics[random_song_ind]\r\n",
        "\r\n",
        "\r\n",
        "    for temp in [.2, .5, 1]:\r\n",
        "        print('Temperature at : ', temp)\r\n",
        "        print('\\n')\r\n",
        "        generated = ''\r\n",
        "        sentence = random_song[start_index : start_index + max_len]\r\n",
        "        generated += sentence\r\n",
        "\r\n",
        "        print('---Original lyrics (first 200 chars): \\n', random_song[:200])\r\n",
        "        print('\\n---Generated with seed: \\n\"' + sentence + '\"')\r\n",
        "        sys.stdout.write(generated)\r\n",
        "\r\n",
        "        for i in range(300):\r\n",
        "            x_pred = np.zeros((1, max_len, len(vocab)))\r\n",
        "            for t, char in enumerate(sentence):\r\n",
        "                x_pred[0, t, char_to_ind[char]] = 1\r\n",
        "\r\n",
        "            preds = model2.predict(x_pred, verbose = 0)[0]\r\n",
        "            next_index = sample(preds, temp)\r\n",
        "            next_char = ind_to_char[next_index]\r\n",
        "\r\n",
        "            generated += next_char\r\n",
        "            sentence = sentence[1:] + next_char\r\n",
        "\r\n",
        "            sys.stdout.write(next_char)\r\n",
        "            sys.stdout.flush()\r\n",
        "\r\n",
        "        print()\r\n",
        "        print('\\n')"
      ],
      "execution_count": null,
      "outputs": []
    },
    {
      "cell_type": "code",
      "metadata": {
        "colab": {
          "base_uri": "https://localhost:8080/"
        },
        "id": "9ITW2wkp7ti8",
        "outputId": "793caaea-c5c3-4f75-9e28-c2d5c9c9f8c2"
      },
      "source": [
        "# fit model\r\n",
        "epoch_summary2 = LambdaCallback(on_epoch_end = on_epoch_end2)\r\n",
        "earlyStopper = EarlyStopping(monitor = 'val_accuracy', patience = 5)\r\n",
        "\r\n",
        "model_path = '/content/drive/MyDrive/Colab Notebooks/NLP/Song Lyric Generator/TR_rap_lyric_generator(seed len 30).hdf5'\r\n",
        "\r\n",
        "checkpoint_= ModelCheckpoint(model_path, monitor='val_accuracy', verbose=0, save_best_only=True)\r\n",
        "\r\n",
        "\r\n",
        "model2.fit(x_arr, y_arr, epochs = 50, batch_size = 512, callbacks = [epoch_summary2, earlyStopper, checkpoint_], validation_split = .25, shuffle = True)"
      ],
      "execution_count": null,
      "outputs": [
        {
          "output_type": "stream",
          "text": [
            "Epoch 1/50\n",
            "1680/1680 [==============================] - 314s 177ms/step - loss: 2.6320 - accuracy: 0.2355 - val_loss: 1.9705 - val_accuracy: 0.3949\n",
            "\n",
            "----Generating text after epoch 0\n",
            "Temperature at :  0.2\n",
            "\n",
            "\n",
            "---Original lyrics (first 200 chars): \n",
            " tanrı kompleksi… fazla erkeksi..\n",
            "herkes pisti terketsin!..\n",
            "şeytanımın geri gelmesi gözümün perdesi\n",
            "ateş yanar döküldükçe gönül şelalesi\n",
            "müzik kerhanesi, konser teranesi, uçak pervanesi\n",
            "kırılır iradesi\n",
            "\n",
            "---Generated with seed: \n",
            "\"tanrı kompleksi… fazla erkeksi\"\n",
            "tanrı kompleksi… fazla erkeksin bir derten de bir de bir gelir bu düşün bir gün alan bir benim bir altanda bir de bir de bir sen bir de bir de ben bir de bir de benim bir gün bir de bir bir de bir de benim bir dert altı bir kadar bir de benim bir de bir sen bir de bir kadar bir bir bir kadar olan bir de bir yanan bir de bakar ar\n",
            "\n",
            "\n",
            "Temperature at :  0.5\n",
            "\n",
            "\n",
            "---Original lyrics (first 200 chars): \n",
            " tanrı kompleksi… fazla erkeksi..\n",
            "herkes pisti terketsin!..\n",
            "şeytanımın geri gelmesi gözümün perdesi\n",
            "ateş yanar döküldükçe gönül şelalesi\n",
            "müzik kerhanesi, konser teranesi, uçak pervanesi\n",
            "kırılır iradesi\n",
            "\n",
            "---Generated with seed: \n",
            "\"tanrı kompleksi… fazla erkeksi\"\n",
            "tanrı kompleksi… fazla erkeksiz kimse meline bile benim bayladım bir işiman daha dersen\n",
            "kimi karanlık arayan eler kaybiler bir ter baş kalbimi aradan hiç artında girdim\n",
            "cengerimi bu bir dertsen\n",
            "için de bir düşmedim bu kafarlar arkada rap bir sarin hep kalda bir daha benim bana karanları adım ada atılabilir bir çeksin gelir artık\n",
            "\n",
            "\n",
            "Temperature at :  1\n",
            "\n",
            "\n",
            "---Original lyrics (first 200 chars): \n",
            " tanrı kompleksi… fazla erkeksi..\n",
            "herkes pisti terketsin!..\n",
            "şeytanımın geri gelmesi gözümün perdesi\n",
            "ateş yanar döküldükçe gönül şelalesi\n",
            "müzik kerhanesi, konser teranesi, uçak pervanesi\n",
            "kırılır iradesi\n",
            "\n",
            "---Generated with seed: \n",
            "\"tanrı kompleksi… fazla erkeksi\"\n",
            "tanrı kompleksi… fazla erkeksini harimi dumap bıvaklarımı pahailar aklini n’ch t\n",
            "ketim saynı lable lak, arana eski nedir sal, y5nlik geri bilmez oldu\n",
            "atdahalımda avancığı\n",
            "bile jankilri\n",
            "tekallerinde alkasa gordirme hayla\n",
            "i̇npilisc bidi bir yüzülüyar da şanmam, herkek uçak çıktı yok bu besın\n",
            "ki bu ryhlar kalgı de rapı\n",
            "dengi bene a\n",
            "\n",
            "\n",
            "Epoch 2/50\n",
            "1680/1680 [==============================] - 298s 178ms/step - loss: 1.9226 - accuracy: 0.4034 - val_loss: 1.8197 - val_accuracy: 0.4355\n",
            "\n",
            "----Generating text after epoch 1\n",
            "Temperature at :  0.2\n",
            "\n",
            "\n",
            "---Original lyrics (first 200 chars): \n",
            " red:\n",
            "ankaradaaayız !\n",
            "trenle i̇zmir ordan i̇stanbul her kafadayız\n",
            "antalya konserinden çıktık havadayız\n",
            "elde bira 8 lira güme gitti paradayız hala\n",
            "tam aradayız\n",
            "birazcık gangstayız birazcık paradayız\n",
            "kit\n",
            "\n",
            "---Generated with seed: \n",
            "\"red:\n",
            "ankaradaaayız !\n",
            "trenle i̇\"\n",
            "red:\n",
            "ankaradaaayız !\n",
            "trenle i̇nsanlar benim için bir bir ben benim için benim için bile bir bak bir gün bir benim bir karanlık bir benim için bir ben anlamaz\n",
            "bir de bir benim için benim işim bir işte bir sen bir kalbim ama bir karanlık bir bak bak bir gün bu bak bi bak bu bak bir kara bana bana bak bir kalbimi bak bi kalbim kara\n",
            "\n",
            "\n",
            "Temperature at :  0.5\n",
            "\n",
            "\n",
            "---Original lyrics (first 200 chars): \n",
            " red:\n",
            "ankaradaaayız !\n",
            "trenle i̇zmir ordan i̇stanbul her kafadayız\n",
            "antalya konserinden çıktık havadayız\n",
            "elde bira 8 lira güme gitti paradayız hala\n",
            "tam aradayız\n",
            "birazcık gangstayız birazcık paradayız\n",
            "kit\n",
            "\n",
            "---Generated with seed: \n",
            "\"red:\n",
            "ankaradaaayız !\n",
            "trenle i̇\"\n",
            "red:\n",
            "ankaradaaayız !\n",
            "trenle i̇nceletir evi de yapamadı bu benim\n",
            "o yanımda hep anlamaz bir aynı sen insanı yaratmak istemem\n",
            "hadi sen dediğim beni defterim bu rap benim kendini telek olmaz insanı aram kalemi araçık gibi diye kaldıran ki top kurşun ki bedenim\n",
            "bir sen bu olduğun her şeyden çektim karışır ben bulduğum kalmış sonum el\n",
            "\n",
            "\n",
            "Temperature at :  1\n",
            "\n",
            "\n",
            "---Original lyrics (first 200 chars): \n",
            " red:\n",
            "ankaradaaayız !\n",
            "trenle i̇zmir ordan i̇stanbul her kafadayız\n",
            "antalya konserinden çıktık havadayız\n",
            "elde bira 8 lira güme gitti paradayız hala\n",
            "tam aradayız\n",
            "birazcık gangstayız birazcık paradayız\n",
            "kit\n",
            "\n",
            "---Generated with seed: \n",
            "\"red:\n",
            "ankaradaaayız !\n",
            "trenle i̇\"\n",
            "red:\n",
            "ankaradaaayız !\n",
            "trenle i̇stenleri karnı bir hadi rahateleri hala\n",
            "sertik aynedir perfecekleri gerci,\n",
            "güç gibi i herizi dista dektarlara bak lık olur mu’llasın\n",
            "bin tek satmadan hran\n",
            "bir komker:\n",
            "i̇stemez semerce musun bizi\n",
            "bir yulu biraz bebe\n",
            "hiç yol olamadı gandi.\n",
            "kafilesin hava fodher\n",
            "dundrahar bu gün ve şeyten\n",
            "torbaki heydi\n",
            "\n",
            "\n",
            "Epoch 3/50\n",
            "1680/1680 [==============================] - 300s 178ms/step - loss: 1.7719 - accuracy: 0.4439 - val_loss: 1.7686 - val_accuracy: 0.4480\n",
            "\n",
            "----Generating text after epoch 2\n",
            "Temperature at :  0.2\n",
            "\n",
            "\n",
            "---Original lyrics (first 200 chars): \n",
            " \n",
            "üzerime bastın kalktım yine\n",
            "bunu görebiliyo’du herkes, geri dönebiliyorsun er geç\n",
            "küfredebiliyo’du niye demiyorken erkek\n",
            "“zihnimi deniyor bu biliyorum” diyebiliyorum\n",
            "i̇rkilebiliyor beden hep\n",
            "tek bi’ \n",
            "\n",
            "---Generated with seed: \n",
            "\"\n",
            "üzerime bastın kalktım yine\n",
            "b\"\n",
            "\n",
            "üzerime bastın kalktım yine\n",
            "bir gün bir bakınca bir bakınca bir bakım altında kara bak bir bakın biz bak altına bak bak bir bakış arada benim, ben bir gün bak bir kara bir de bak bi bak benim adım hayat bir de bak bi bak bi bak ama benim bir bakım ama bak bi de bir bak bir bakınca bir de bir bak bir sana da bir bak bak artık am\n",
            "\n",
            "\n",
            "Temperature at :  0.5\n",
            "\n",
            "\n",
            "---Original lyrics (first 200 chars): \n",
            " \n",
            "üzerime bastın kalktım yine\n",
            "bunu görebiliyo’du herkes, geri dönebiliyorsun er geç\n",
            "küfredebiliyo’du niye demiyorken erkek\n",
            "“zihnimi deniyor bu biliyorum” diyebiliyorum\n",
            "i̇rkilebiliyor beden hep\n",
            "tek bi’ \n",
            "\n",
            "---Generated with seed: \n",
            "\"\n",
            "üzerime bastın kalktım yine\n",
            "b\"\n",
            "\n",
            "üzerime bastın kalktım yine\n",
            "benim sana bir iş bakıp benim ayağı benim yanımda her bir de bilmez\n",
            "bak yarımı bulamadım\n",
            "yazarım karanlıklar benim doğduğum ben ama gözüm bakışın maskesi\n",
            "bi kan yapar arkadaşım\n",
            "tüm bak ama bana her şeyi\n",
            "cennetim işte yaşamadım ama her bir taraf\n",
            "kara benim ama benim benim telifoldu sen de benim medeni\n",
            "\n",
            "\n",
            "Temperature at :  1\n",
            "\n",
            "\n",
            "---Original lyrics (first 200 chars): \n",
            " \n",
            "üzerime bastın kalktım yine\n",
            "bunu görebiliyo’du herkes, geri dönebiliyorsun er geç\n",
            "küfredebiliyo’du niye demiyorken erkek\n",
            "“zihnimi deniyor bu biliyorum” diyebiliyorum\n",
            "i̇rkilebiliyor beden hep\n",
            "tek bi’ \n",
            "\n",
            "---Generated with seed: \n",
            "\"\n",
            "üzerime bastın kalktım yine\n",
            "b\"\n",
            "\n",
            "üzerime bastın kalktım yine\n",
            "bunca baklatıyorlar masarlar\n",
            "tuz gidecekse vası .\n",
            "senin o ecan öyle karanlar\n",
            "fitirk yok parlayan gündüzün yarını ince aptakhı kılda buz bugün cüsumdüler görmediğime yalancıdan\n",
            "polit1 abi yarlar artik rapimin yine diyerlerince lokuna seviyor\n",
            "hama ver i ya en sonuna ve ahe ’em yerden bana sizin\n",
            "nasıl a\n",
            "\n",
            "\n",
            "Epoch 4/50\n",
            "1680/1680 [==============================] - 300s 179ms/step - loss: 1.6923 - accuracy: 0.4653 - val_loss: 1.7452 - val_accuracy: 0.4547\n",
            "\n",
            "----Generating text after epoch 3\n",
            "Temperature at :  0.2\n",
            "\n",
            "\n",
            "---Original lyrics (first 200 chars): \n",
            " senin ben amına goyayım.\n",
            "senin ben amına goyayım.\n",
            "funk’d up’a deki, bitirim ikili bitirir hevesi\n",
            "ah be canım sene 2012 ve hala gerici beynin\n",
            "ki derdim, değilki tatlım benide beğenin\n",
            "ben kapadım artık \n",
            "\n",
            "---Generated with seed: \n",
            "\"senin ben amına goyayım.\n",
            "senin\"\n",
            "senin ben amına goyayım.\n",
            "senin için her gün bir de ben bir de benim için ben benim için her şey yok her bir de ben bir de benim de benim, her şey senin için ben bir de ben bir de benim için bir de benim sen bir de ben bir de benim için ben bir de benim için bir gün bu benim adım değil bir de ben bir sene bir kere değil bir de be\n",
            "\n",
            "\n",
            "Temperature at :  0.5\n",
            "\n",
            "\n",
            "---Original lyrics (first 200 chars): \n",
            " senin ben amına goyayım.\n",
            "senin ben amına goyayım.\n",
            "funk’d up’a deki, bitirim ikili bitirir hevesi\n",
            "ah be canım sene 2012 ve hala gerici beynin\n",
            "ki derdim, değilki tatlım benide beğenin\n",
            "ben kapadım artık \n",
            "\n",
            "---Generated with seed: \n",
            "\"senin ben amına goyayım.\n",
            "senin\"\n",
            "senin ben amına goyayım.\n",
            "senin için basımız kanımdan karanlık kanında bir kalkım\n",
            "çalışmaz bakışlarından başına bakar\n",
            "bir gün yapılır kanında kalır anlarsın bir de şarkı diye hedefe sana benim, herkes de değil hep ben bir neden bir tek insan içim çok ölüm gününün kabası bir içim\n",
            "sen de bir de benim görünüm yok her yer yok bile bi\n",
            "\n",
            "\n",
            "Temperature at :  1\n",
            "\n",
            "\n",
            "---Original lyrics (first 200 chars): \n",
            " senin ben amına goyayım.\n",
            "senin ben amına goyayım.\n",
            "funk’d up’a deki, bitirim ikili bitirir hevesi\n",
            "ah be canım sene 2012 ve hala gerici beynin\n",
            "ki derdim, değilki tatlım benide beğenin\n",
            "ben kapadım artık \n",
            "\n",
            "---Generated with seed: \n",
            "\"senin ben amına goyayım.\n",
            "senin\"\n",
            "senin ben amına goyayım.\n",
            "senin olmadı bi’ ben nedir bende kalan buz kimse…\n",
            "birken gencler, yazılı… satır senin beni, afzuna çek gibi kiçse hep hodam olan herkes kendi gibi.\n",
            "kimse kalbiğinde dünyada bırak\n",
            "hakim en var misin onun fani gençlerin dikegen bi zemir mevse.”,sız çep rap batsan\n",
            "nefsinuz değilen yolda sürüpleliyle ritimle\n",
            "\n",
            "\n",
            "Epoch 5/50\n",
            "1680/1680 [==============================] - 301s 179ms/step - loss: 1.6314 - accuracy: 0.4832 - val_loss: 1.7344 - val_accuracy: 0.4593\n",
            "\n",
            "----Generating text after epoch 4\n",
            "Temperature at :  0.2\n",
            "\n",
            "\n",
            "---Original lyrics (first 200 chars): \n",
            " nesine göre ki kıymetin değeri, yüreğin çömelir eğilir boynun, değeri biçilir kenara atılır,\n",
            "kıymetin de çıkarı varsa çıkarı yerinde dilenir, her duada tanrı bin azarladı, ve bendim her\n",
            "nazarda pay ka\n",
            "\n",
            "---Generated with seed: \n",
            "\"nesine göre ki kıymetin değeri\"\n",
            "nesine göre ki kıymetin değeri karanlık olanları yaralarımda karanlık bir gün bu karanlık olduğunu karanlık kalır kalk bu dertler artık alıştım\n",
            "karanlık kalmadı bu senin de bir de benim senin bir derdim\n",
            "derin derinden çıkar artık bir de benim sana bu dünya benim senin kaldırım bir de benim için bir de benim, benim hayatım bir de\n",
            "\n",
            "\n",
            "Temperature at :  0.5\n",
            "\n",
            "\n",
            "---Original lyrics (first 200 chars): \n",
            " nesine göre ki kıymetin değeri, yüreğin çömelir eğilir boynun, değeri biçilir kenara atılır,\n",
            "kıymetin de çıkarı varsa çıkarı yerinde dilenir, her duada tanrı bin azarladı, ve bendim her\n",
            "nazarda pay ka\n",
            "\n",
            "---Generated with seed: \n",
            "\"nesine göre ki kıymetin değeri\"\n",
            "nesine göre ki kıymetin değeri de derine değil\n",
            "beni öldürmene düşen insanları alacak sanki bu yüzden haram değil\n",
            "her de ağlarım bir sahte benden her şeyim değil senin\n",
            "bir kez kafa değil koştu sevgisi\n",
            "bir işin kaçar hep yanımda kaldırım\n",
            "ben kursağında kalmış kaybettim\n",
            "biz gelir değilim yanıma yalan olur\n",
            "düşünce senin değil alayım\n",
            "\n",
            "\n",
            "Temperature at :  1\n",
            "\n",
            "\n",
            "---Original lyrics (first 200 chars): \n",
            " nesine göre ki kıymetin değeri, yüreğin çömelir eğilir boynun, değeri biçilir kenara atılır,\n",
            "kıymetin de çıkarı varsa çıkarı yerinde dilenir, her duada tanrı bin azarladı, ve bendim her\n",
            "nazarda pay ka\n",
            "\n",
            "---Generated with seed: \n",
            "\"nesine göre ki kıymetin değeri\"\n",
            "nesine göre ki kıymetin değeri!\n",
            "bak\n",
            "savaşta\n",
            "dönüşler bilemedi vaşım şimdi ve\n",
            "beni tanır yazık iman olmadan\n",
            "benden gönler yakpar hafızı ortasında arama taşamlıyım, geçmiş seninle var çicmn bu orkama 2…\n",
            "size battım demesin aşkın kuttırın,\n",
            "i̇nsanlık kelimeye bön,\n",
            "kimse gidelim, bedelim hepsiden\n",
            "edelim kendini kimetir çıktık oydu oy\n",
            "\n",
            "\n",
            "Epoch 6/50\n",
            "1680/1680 [==============================] - 300s 179ms/step - loss: 1.5799 - accuracy: 0.4981 - val_loss: 1.7296 - val_accuracy: 0.4626\n",
            "\n",
            "----Generating text after epoch 5\n",
            "Temperature at :  0.2\n",
            "\n",
            "\n",
            "---Original lyrics (first 200 chars): \n",
            " \n",
            "ay bizim yıldız bizim\n",
            "döktüğümüz bu ter bizim\n",
            "attığımız goller bizim\n",
            "dokunma elimde bir türkiyem var\n",
            "\n",
            "yazarım gerçeği tarihe \n",
            "gerek var mı hiç tarife\n",
            "galibiyet değil marifet\n",
            "bize yeter ettiğin mücade\n",
            "\n",
            "---Generated with seed: \n",
            "\"\n",
            "ay bizim yıldız bizim\n",
            "döktüğü\"\n",
            "\n",
            "ay bizim yıldız bizim\n",
            "döktüğüm bu son kafanı kaldırır ama bana bakma kafanı bana bak bu sakıncalı bu kadar sorun bir dert değil\n",
            "bir bakımız arama karşıma göremediğim bu kadar da bir karanlık bir karanlıktır benim sana karanlıklar bir dünya karanlık kaldı kan kaldı kan karanlık oldu bu kadar açık ararım bu kadar sen bir de geri \n",
            "\n",
            "\n",
            "Temperature at :  0.5\n",
            "\n",
            "\n",
            "---Original lyrics (first 200 chars): \n",
            " \n",
            "ay bizim yıldız bizim\n",
            "döktüğümüz bu ter bizim\n",
            "attığımız goller bizim\n",
            "dokunma elimde bir türkiyem var\n",
            "\n",
            "yazarım gerçeği tarihe \n",
            "gerek var mı hiç tarife\n",
            "galibiyet değil marifet\n",
            "bize yeter ettiğin mücade\n",
            "\n",
            "---Generated with seed: \n",
            "\"\n",
            "ay bizim yıldız bizim\n",
            "döktüğü\"\n",
            "\n",
            "ay bizim yıldız bizim\n",
            "döktüğüm yerde kalmış kanında göreceğim\n",
            "düşman ve sen bir türlü saygıları kaldı kalbim bir gün ah benim yanımda yoksun gece yanımda arkamdan gelen bunu kim bilir bir adam son verdim\n",
            "sana yakın benim sözlerim\n",
            "konuşma anneyin daha kaldırımı\n",
            "karanlık ağlarım ben olur ben de olmayacağını bilemediğim\n",
            "kalbim sen\n",
            "\n",
            "\n",
            "Temperature at :  1\n",
            "\n",
            "\n",
            "---Original lyrics (first 200 chars): \n",
            " \n",
            "ay bizim yıldız bizim\n",
            "döktüğümüz bu ter bizim\n",
            "attığımız goller bizim\n",
            "dokunma elimde bir türkiyem var\n",
            "\n",
            "yazarım gerçeği tarihe \n",
            "gerek var mı hiç tarife\n",
            "galibiyet değil marifet\n",
            "bize yeter ettiğin mücade\n",
            "\n",
            "---Generated with seed: \n",
            "\"\n",
            "ay bizim yıldız bizim\n",
            "döktüğü\"\n",
            "\n",
            "ay bizim yıldız bizim\n",
            "döktüğün şüm çizdirdim hezeylenecek ölüden hoşgeldiniz peşine veren bu fami abi\n",
            "bu sıfır geceler kulağına gac edecek\n",
            "ama sonunda her yer. bak tebrik etsin ama makineder senin elimle tere dünya;\n",
            "görcüğünü mi sonra ağzına bakarak tene biri pamara imkan lirikçe bi an ansa gömdürür\n",
            "toflabım benden yarattıkları\n",
            "\n",
            "\n",
            "Epoch 7/50\n",
            "1680/1680 [==============================] - 301s 179ms/step - loss: 1.5351 - accuracy: 0.5113 - val_loss: 1.7296 - val_accuracy: 0.4639\n",
            "\n",
            "----Generating text after epoch 6\n",
            "Temperature at :  0.2\n",
            "\n",
            "\n",
            "---Original lyrics (first 200 chars): \n",
            " kimi zaman dusunduklerim karsima cikar\n",
            "gizli zaman icinde misal\n",
            "gibi gorunen dusmanim gercek\n",
            "oldu ruyalarim tiyolari verir\n",
            "ellerimi kesen kilic adi\n",
            "ucurumdan dusen ben korkularimla beni yuz yuze getir\n",
            "\n",
            "---Generated with seed: \n",
            "\"kimi zaman dusunduklerim karsi\"\n",
            "kimi zaman dusunduklerim karsima karanlik karanlik kararlarini karanlik kanli kanli kaldir ama kandir dedim biz bu kadar da bir de bir daha hayatımız dolu gelir diyemez ki bir kara kalem de bir de benim sana beni benim, benim yaşamak istemedim benim için bir gün benim için benim için beni benim, benim için bir de bir gün beni bi\n",
            "\n",
            "\n",
            "Temperature at :  0.5\n",
            "\n",
            "\n",
            "---Original lyrics (first 200 chars): \n",
            " kimi zaman dusunduklerim karsima cikar\n",
            "gizli zaman icinde misal\n",
            "gibi gorunen dusmanim gercek\n",
            "oldu ruyalarim tiyolari verir\n",
            "ellerimi kesen kilic adi\n",
            "ucurumdan dusen ben korkularimla beni yuz yuze getir\n",
            "\n",
            "---Generated with seed: \n",
            "\"kimi zaman dusunduklerim karsi\"\n",
            "kimi zaman dusunduklerim karsima karıştiran yarın yerden haksızlık biz\n",
            "i̇çimde tanıdığım her gün bu şehirler derinde\n",
            "dert seni daha başka bir gün bir kadeh altına denk adam sen de tatlı dolu salvo kalk değil sen bir iki yapar bir yandan gerçeği yanımda benim, senin için gelirim ama bunu delip atar ya da kalk kan yanar ama bana b\n",
            "\n",
            "\n",
            "Temperature at :  1\n",
            "\n",
            "\n",
            "---Original lyrics (first 200 chars): \n",
            " kimi zaman dusunduklerim karsima cikar\n",
            "gizli zaman icinde misal\n",
            "gibi gorunen dusmanim gercek\n",
            "oldu ruyalarim tiyolari verir\n",
            "ellerimi kesen kilic adi\n",
            "ucurumdan dusen ben korkularimla beni yuz yuze getir\n",
            "\n",
            "---Generated with seed: \n",
            "\"kimi zaman dusunduklerim karsi\"\n",
            "kimi zaman dusunduklerim karsina sildim bir bakmışsin bir olduğumdan kackı beş bunlar\n",
            "havadayızdır kadehlere dayasada\n",
            "karnınızda var gelmez kokar omada\n",
            "nasıl hareket için eziklerin taramalısını\n",
            "kendini bende karamdan\n",
            "biliyom lan sana bunu trip olamadık hemen,\n",
            "önceden fazla en kitlendik ateş gibi insanlar sözler kimse gündüzlerim\n",
            "\n",
            "\n",
            "Epoch 8/50\n",
            "1680/1680 [==============================] - 302s 180ms/step - loss: 1.4950 - accuracy: 0.5228 - val_loss: 1.7356 - val_accuracy: 0.4647\n",
            "\n",
            "----Generating text after epoch 7\n",
            "Temperature at :  0.2\n",
            "\n",
            "\n",
            "---Original lyrics (first 200 chars): \n",
            " siyah gözlerini kapadı, küstü onca beyaza\n",
            "haz vermiyo’ yaşamak işim gücüm düzgün olsa ne yazar\n",
            "sana yazıyorum anne, bi’ tek sana yazıyorum erken yaşta\n",
            "çok ihanet gördüm kimse haketmiyo’ yazmamı senden\n",
            "\n",
            "---Generated with seed: \n",
            "\"siyah gözlerini kapadı, küstü \"\n",
            "siyah gözlerini kapadı, küstü başına giden bir bakışı gören aklını kaldır ama ben bir de benim için bir bakışım ama ben bir ben benim için bu yana benim o yanım benim o yanımda bir bakım ben bu olan bitik bir bakışlarım yanında kalmadı kalanları savaşı benim, sana bakıp bir de benim elimde kaldı benim, ben benim için bir bakışım\n",
            "\n",
            "\n",
            "Temperature at :  0.5\n",
            "\n",
            "\n",
            "---Original lyrics (first 200 chars): \n",
            " siyah gözlerini kapadı, küstü onca beyaza\n",
            "haz vermiyo’ yaşamak işim gücüm düzgün olsa ne yazar\n",
            "sana yazıyorum anne, bi’ tek sana yazıyorum erken yaşta\n",
            "çok ihanet gördüm kimse haketmiyo’ yazmamı senden\n",
            "\n",
            "---Generated with seed: \n",
            "\"siyah gözlerini kapadı, küstü \"\n",
            "siyah gözlerini kapadı, küstü bak alışmasın\n",
            "sana bak bakalım ben bir yerde yansın\n",
            "alemi çektim kimine girdim yani sahnen\n",
            "anlamiyosan sana soruyor o güneşle değil\n",
            "yanımda yaşamak yapıyorum ki hayat bir yardım edenim\n",
            "sen bir şeyler kaybettim ama suratın güneşimi duymadım ve de benim, karanlık bir de tek bir ben bulurum ben sana bu\n",
            "\n",
            "\n",
            "Temperature at :  1\n",
            "\n",
            "\n",
            "---Original lyrics (first 200 chars): \n",
            " siyah gözlerini kapadı, küstü onca beyaza\n",
            "haz vermiyo’ yaşamak işim gücüm düzgün olsa ne yazar\n",
            "sana yazıyorum anne, bi’ tek sana yazıyorum erken yaşta\n",
            "çok ihanet gördüm kimse haketmiyo’ yazmamı senden\n",
            "\n",
            "---Generated with seed: \n",
            "\"siyah gözlerini kapadı, küstü \"\n",
            "siyah gözlerini kapadı, küstü azalan gecelerde ise kurdular silah ve sonucu hurizet\n",
            "sana atlat baynar gidiyor ak- hedefter yapanlardan her güneşinn deli gibi mal\n",
            "gelinmeden beni seven ampcorya\n",
            "herşeyi bunu deli, diye nede gebemez\n",
            "didi 400tse gine yarım. ve sayfadan olmayanlar toz ve takip almadan alsın bile egenin işini\n",
            "ya da be\n",
            "\n",
            "\n",
            "Epoch 9/50\n",
            "1680/1680 [==============================] - 302s 179ms/step - loss: 1.4572 - accuracy: 0.5340 - val_loss: 1.7445 - val_accuracy: 0.4626\n",
            "\n",
            "----Generating text after epoch 8\n",
            "Temperature at :  0.2\n",
            "\n",
            "\n",
            "---Original lyrics (first 200 chars): \n",
            " var var var bi tatar\n",
            "varsa kalem ona nabzı atar\n",
            "herkez ismine bi nokta katar\n",
            "kabzısı var rapim ağzı sıvar\n",
            "beni bi bekle ve kal öyle\n",
            "arıyolar ama beni ne yönde\n",
            "tek rakibim kendi gölgem\n",
            "her insan oluşur\n",
            "\n",
            "---Generated with seed: \n",
            "\"var var var bi tatar\n",
            "varsa kal\"\n",
            "var var var bi tatar\n",
            "varsa kalmamış bir sana bir adım at ve bak bi kalk var bi bak bi bak var bir de bir de bir bak ve bu güzel bi bak bi karanlık kalkar karanlık olduğunu görmedim yanında gözlerimi yanaşır\n",
            "gözlerimi kaldıramadım ama gördüm gözlerimi görmedim yanımda bir gün bugün bu dünya\n",
            "benim kadar sorun var benim bu benim sa\n",
            "\n",
            "\n",
            "Temperature at :  0.5\n",
            "\n",
            "\n",
            "---Original lyrics (first 200 chars): \n",
            " var var var bi tatar\n",
            "varsa kalem ona nabzı atar\n",
            "herkez ismine bi nokta katar\n",
            "kabzısı var rapim ağzı sıvar\n",
            "beni bi bekle ve kal öyle\n",
            "arıyolar ama beni ne yönde\n",
            "tek rakibim kendi gölgem\n",
            "her insan oluşur\n",
            "\n",
            "---Generated with seed: \n",
            "\"var var var bi tatar\n",
            "varsa kal\"\n",
            "var var var bi tatar\n",
            "varsa kalk de koklama bakmadan başka yok bu rap onu takılım\n",
            "adamım evi dallarını dişi dolu kana\n",
            "hayat bir gün bu taşlarımı sağıma döner sana göre değil işte\n",
            "biz geçer kaçar artık benim eksik ettim kalk dedim bir döngüsü.\n",
            "dünya döner bir karanlık bir gün bulsun yine bi sana bana bütün bu nasıl geri kalmamış y\n",
            "\n",
            "\n",
            "Temperature at :  1\n",
            "\n",
            "\n",
            "---Original lyrics (first 200 chars): \n",
            " var var var bi tatar\n",
            "varsa kalem ona nabzı atar\n",
            "herkez ismine bi nokta katar\n",
            "kabzısı var rapim ağzı sıvar\n",
            "beni bi bekle ve kal öyle\n",
            "arıyolar ama beni ne yönde\n",
            "tek rakibim kendi gölgem\n",
            "her insan oluşur\n",
            "\n",
            "---Generated with seed: \n",
            "\"var var var bi tatar\n",
            "varsa kal\"\n",
            "var var var bi tatar\n",
            "varsa kalite biz de hiçbir sabah artık sey\n",
            "20 dert ağlama adam var, seni bulma sarulduğun\n",
            "üstüne kaygım arasında gitti nam-. sahnede seçim hık kırılır son dandı anla\n",
            "geri git tabalama lakım biraz dal. kolpa olsam bilmemez gibi paramça sözlere yağmurlar\n",
            "mı gicin var vücuduma kadar mı farketme derleri\n",
            "\n",
            "herkes \n",
            "\n",
            "\n",
            "Epoch 10/50\n",
            "1680/1680 [==============================] - 302s 180ms/step - loss: 1.4225 - accuracy: 0.5448 - val_loss: 1.7549 - val_accuracy: 0.4636\n",
            "\n",
            "----Generating text after epoch 9\n",
            "Temperature at :  0.2\n",
            "\n",
            "\n",
            "---Original lyrics (first 200 chars): \n",
            " ey kendini bilmez bak yine ben geldim bak yine ben geldim bak yine ben geldim\n",
            "ey düşünmez sinirlerini sen gerdin sinirlerini sen gerdin sen gerdin\n",
            "bir fiskecik hayatında bana yer sen verdin bana yer s\n",
            "\n",
            "---Generated with seed: \n",
            "\"ey kendini bilmez bak yine ben\"\n",
            "ey kendini bilmez bak yine benim için bu dertlerimin sebebi…\n",
            "ben bir anlaman gelir gelir gelir de bir de ben de benim elimde benim, sana benim, sana beni benim, sallarım benim, benim adım ateş gibi beni de benim, sana gelir gelir de bir de bir de ben de benim adım adım ateş yapmadım sen bilirsin\n",
            "ben bir anlaman gerekir ama ben b\n",
            "\n",
            "\n",
            "Temperature at :  0.5\n",
            "\n",
            "\n",
            "---Original lyrics (first 200 chars): \n",
            " ey kendini bilmez bak yine ben geldim bak yine ben geldim bak yine ben geldim\n",
            "ey düşünmez sinirlerini sen gerdin sinirlerini sen gerdin sen gerdin\n",
            "bir fiskecik hayatında bana yer sen verdin bana yer s\n",
            "\n",
            "---Generated with seed: \n",
            "\"ey kendini bilmez bak yine ben\"\n",
            "ey kendini bilmez bak yine benim için sen beni de göremediğim gibi\n",
            "beni doğar bir sert beni bulmadın\n",
            "gerçek buna gelir benim ben olamam\n",
            "ama olamadım ipterler büyük oldu bu dizi\n",
            "ben de gelir değil ama yaşamaz beni dinlemek gerek diyerek ve gezer hep beni sevdiğimi sevmeyip düşün\n",
            "ben seni bulmadan önce\n",
            "ben beni benim oldum ben abi\n",
            "\n",
            "\n",
            "Temperature at :  1\n",
            "\n",
            "\n",
            "---Original lyrics (first 200 chars): \n",
            " ey kendini bilmez bak yine ben geldim bak yine ben geldim bak yine ben geldim\n",
            "ey düşünmez sinirlerini sen gerdin sinirlerini sen gerdin sen gerdin\n",
            "bir fiskecik hayatında bana yer sen verdin bana yer s\n",
            "\n",
            "---Generated with seed: \n",
            "\"ey kendini bilmez bak yine ben\"\n",
            "ey kendini bilmez bak yine beni aslında.\n",
            "bende istendiklerimi giram ağır bakın\n",
            "bugün yarlamandan tesekli devam eder\n",
            "bir bllmlyoun kızlarında değil mi gangsta olay beklerim yokuz\n",
            "çukuradan alıyorlar işte gel var!\n",
            "yeah\n",
            "rap  sevgisi bize\n",
            "çünkü sayhadakma geldiğim kıymetimda sivilmiyor daha fazla yok\n",
            "ruhu aldı can fazla digi akıl du\n",
            "\n",
            "\n",
            "Epoch 11/50\n",
            "1680/1680 [==============================] - 302s 180ms/step - loss: 1.3910 - accuracy: 0.5556 - val_loss: 1.7624 - val_accuracy: 0.4628\n",
            "\n",
            "----Generating text after epoch 10\n",
            "Temperature at :  0.2\n",
            "\n",
            "\n",
            "---Original lyrics (first 200 chars): \n",
            " açara damara kanara\n",
            "hip-hop’a rast gel kazara\n",
            "yanara ateşten doğana\n",
            "eller havada bi’ o bi’ bu yana\n",
            "açara damara kanara\n",
            "hip-hop’a rast gel kazara\n",
            "yanara ateşten doğana\n",
            "eller havada bi’ o bi’ bu yana\n",
            "ar\n",
            "\n",
            "---Generated with seed: \n",
            "\"açara damara kanara\n",
            "hip-hop’a \"\n",
            "açara damara kanara\n",
            "hip-hop’a bakar bir bakımız akınız underground makasına rap yapar her bi kadar aşar benim için\n",
            "bir gün bir de benim senin gibi bir defa tutayım\n",
            "sen bir gün bu yolda bir derdim\n",
            "bir gün bu yoldan geçmez gerekir\n",
            "bir gün doğar bir sabah güzel doğru bir gün bugün bu bak bir sen de bir de benim sahte bir de ben değ\n",
            "\n",
            "\n",
            "Temperature at :  0.5\n",
            "\n",
            "\n",
            "---Original lyrics (first 200 chars): \n",
            " açara damara kanara\n",
            "hip-hop’a rast gel kazara\n",
            "yanara ateşten doğana\n",
            "eller havada bi’ o bi’ bu yana\n",
            "açara damara kanara\n",
            "hip-hop’a rast gel kazara\n",
            "yanara ateşten doğana\n",
            "eller havada bi’ o bi’ bu yana\n",
            "ar\n",
            "\n",
            "---Generated with seed: \n",
            "\"açara damara kanara\n",
            "hip-hop’a \"\n",
            "açara damara kanara\n",
            "hip-hop’a bi çare yok çalıştıkça insan olsun,\n",
            "bir başımı kaldım yani sorunları tanımaya ayrılık bir de hayat anladık\n",
            "bir gece gece dönüp savaşırız her yerde\n",
            "çekilim benim, ben bu şehir benim bir şeyler demişti\n",
            "elimden bir yerde yoksa bir de ben değil\n",
            "bir gün bir senin de kaybolan acaba kaliten kolumda hep bir\n",
            "\n",
            "\n",
            "Temperature at :  1\n",
            "\n",
            "\n",
            "---Original lyrics (first 200 chars): \n",
            " açara damara kanara\n",
            "hip-hop’a rast gel kazara\n",
            "yanara ateşten doğana\n",
            "eller havada bi’ o bi’ bu yana\n",
            "açara damara kanara\n",
            "hip-hop’a rast gel kazara\n",
            "yanara ateşten doğana\n",
            "eller havada bi’ o bi’ bu yana\n",
            "ar\n",
            "\n",
            "---Generated with seed: \n",
            "\"açara damara kanara\n",
            "hip-hop’a \"\n",
            "açara damara kanara\n",
            "hip-hop’a çıkarıyo şuan\n",
            "dinlenmiyorum bağlarımsa kör sever\n",
            "korkma her yer şşşek bu son gibi aşkalarından hayatımızı bilin.\n",
            "üstüme ders olur yolu söz torba doğusu vol olsun size\n",
            "dünya düzenime üzerimde dünya zamanı yazarken orda atasına atmak gezer devkat elin kul olsan\n",
            "beşener nefret ettim anladım atar olan\n",
            "b\n",
            "\n",
            "\n",
            "Epoch 12/50\n",
            "1680/1680 [==============================] - 302s 180ms/step - loss: 1.3721 - accuracy: 0.5604 - val_loss: 1.7692 - val_accuracy: 0.4631\n",
            "\n",
            "----Generating text after epoch 11\n",
            "Temperature at :  0.2\n",
            "\n",
            "\n",
            "---Original lyrics (first 200 chars): \n",
            " şunun ağzına bez , benim altıma böyle bir beatcoin\n",
            "i̇şte burada pin point, ekmek arası üç boyut\n",
            "bura sıcak ise git soyun, bırakın bu zor oyun\n",
            "bu oyunda ne bıçak, ne silah , kredi kart , bodyguard ,bar\n",
            "\n",
            "---Generated with seed: \n",
            "\"şunun ağzına bez , benim altım\"\n",
            "şunun ağzına bez , benim altım benim, ben hep aynı yerde benim, ben hep ben değilim ben değilim bu gece de gelmemekte gül battle’ı\n",
            "yanımda bir savaş hayat değil kalbim senin sayarım\n",
            "bir gün başımda dert yalan değil güzel değil ki ben değilim\n",
            "ben bu gece yarına bakarım, ararım derin kadın alın ayaklarında benim kalbim sonra bir k\n",
            "\n",
            "\n",
            "Temperature at :  0.5\n",
            "\n",
            "\n",
            "---Original lyrics (first 200 chars): \n",
            " şunun ağzına bez , benim altıma böyle bir beatcoin\n",
            "i̇şte burada pin point, ekmek arası üç boyut\n",
            "bura sıcak ise git soyun, bırakın bu zor oyun\n",
            "bu oyunda ne bıçak, ne silah , kredi kart , bodyguard ,bar\n",
            "\n",
            "---Generated with seed: \n",
            "\"şunun ağzına bez , benim altım\"\n",
            "şunun ağzına bez , benim altımızda bir ben ellerimde saklı\n",
            "bak bir sandın artık biz hayat çok yok\n",
            "kiminin hakkında ve de dinlediğim de yaratılmaz tek bir daha\n",
            "artık kalmış ki kanatların başanın\n",
            "konuşsun ulaştığım bu dünyada her bir bakışta en ayrı\n",
            "nefes almak istediğin bu hayat istersen elimi kesip işini bilemedik hep aynı rap b\n",
            "\n",
            "\n",
            "Temperature at :  1\n",
            "\n",
            "\n",
            "---Original lyrics (first 200 chars): \n",
            " şunun ağzına bez , benim altıma böyle bir beatcoin\n",
            "i̇şte burada pin point, ekmek arası üç boyut\n",
            "bura sıcak ise git soyun, bırakın bu zor oyun\n",
            "bu oyunda ne bıçak, ne silah , kredi kart , bodyguard ,bar\n",
            "\n",
            "---Generated with seed: \n",
            "\"şunun ağzına bez , benim altım\"\n",
            "şunun ağzına bez , benim altımda gezerler hayat aradan\n",
            "söyle hayat bu alem ile gördüm, narkör gezer de bozuldu ancamı efkarın amacı.\n",
            "kaçarsa kafanı kalkmadan adap\n",
            "gerçek canımın underground, 9 gare’i getir…\n",
            "gözlerin ağları, adımı el oldu galibim\n",
            "taş kıymetli oldugunu yok etmeyanlar yaldin\n",
            "aynı yerde olmadi kafiye\n",
            "dostu atan coğt\n",
            "\n",
            "\n",
            "Epoch 13/50\n",
            "1680/1680 [==============================] - 302s 180ms/step - loss: 1.3426 - accuracy: 0.5692 - val_loss: 1.7826 - val_accuracy: 0.4617\n",
            "\n",
            "----Generating text after epoch 12\n",
            "Temperature at :  0.2\n",
            "\n",
            "\n",
            "---Original lyrics (first 200 chars): \n",
            " ceza: kendini tanıt sorulara şart yanıt\n",
            "killa hakan: şart kanıt hard canım harddır her yanın\n",
            "ceza: kuvvetten döktüğümüz topraklar var kimisinin herkesden daha çok mutlu yanı\n",
            "killa hakan: askeri ücretl\n",
            "\n",
            "---Generated with seed: \n",
            "\"ceza: kendini tanıt sorulara ş\"\n",
            "ceza: kendini tanıt sorulara şart yanıyor\n",
            "bu yolun sonu koyduğum bu dertleri kafama bak\n",
            "bi kere de yazarım ben adımı sana dert değil\n",
            "benim işim bu dertler bu dertleri kaldı benim senin adını bile değil\n",
            "benim işim bi gün bu gece yarına dayanamaz ama hazırım\n",
            "sen bir anlıktır ben bir gün\n",
            "ben seni bulmadan önce\n",
            "ben beni bilirim ben \n",
            "\n",
            "\n",
            "Temperature at :  0.5\n",
            "\n",
            "\n",
            "---Original lyrics (first 200 chars): \n",
            " ceza: kendini tanıt sorulara şart yanıt\n",
            "killa hakan: şart kanıt hard canım harddır her yanın\n",
            "ceza: kuvvetten döktüğümüz topraklar var kimisinin herkesden daha çok mutlu yanı\n",
            "killa hakan: askeri ücretl\n",
            "\n",
            "---Generated with seed: \n",
            "\"ceza: kendini tanıt sorulara ş\"\n",
            "ceza: kendini tanıt sorulara şart\n",
            "haram ama ben senin yaptığın her gün gelir\n",
            "senin için de bir yerde biliyorum\n",
            "sen giderken aşılan bir olmadığın ben savaşı benim, de benim yoldan olmadın ben kadar sanki bi dert\n",
            "bir gece yaralı bir serseriyim\n",
            "tek derdimi yakayım ben bu yolun da kalın ayılır karaya kalır akıllı kanını verin sana k\n",
            "\n",
            "\n",
            "Temperature at :  1\n",
            "\n",
            "\n",
            "---Original lyrics (first 200 chars): \n",
            " ceza: kendini tanıt sorulara şart yanıt\n",
            "killa hakan: şart kanıt hard canım harddır her yanın\n",
            "ceza: kuvvetten döktüğümüz topraklar var kimisinin herkesden daha çok mutlu yanı\n",
            "killa hakan: askeri ücretl\n",
            "\n",
            "---Generated with seed: \n",
            "\"ceza: kendini tanıt sorulara ş\"\n",
            "ceza: kendini tanıt sorulara şeytan bir şipaya her saf\n",
            "hadi bize get! bunu şeytan eli verin elini keser ona kanda zop kazandı.\n",
            "saygıları geride bırak seni girdi şart yo! , durma kendileri dinledi bence,\n",
            "ama silahlarıyla yüzleşiyor halili!\n",
            "bir şeyim diyemem neden her zamanki ömrünü\n",
            "nazetede seni de olsun gözüm için\n",
            "yalan kılgınlı\n",
            "\n",
            "\n"
          ],
          "name": "stdout"
        },
        {
          "output_type": "execute_result",
          "data": {
            "text/plain": [
              "<tensorflow.python.keras.callbacks.History at 0x7fd7fc329668>"
            ]
          },
          "metadata": {
            "tags": []
          },
          "execution_count": 30
        }
      ]
    },
    {
      "cell_type": "code",
      "metadata": {
        "id": "ziFZxeFu7tjh"
      },
      "source": [
        "def generate_w_seed(sentence,temperature):\r\n",
        "    sentence = sentence[0:max_len]\r\n",
        "    # print(f'seed: {sentence}')\r\n",
        "    print(f'temperature: {temperature}')\r\n",
        "    generated = ''\r\n",
        "    generated += sentence\r\n",
        "    \r\n",
        "    sys.stdout.write(generated)\r\n",
        "\r\n",
        "    for i in range(500):\r\n",
        "        x_pred = np.zeros((1, max_len, len(vocab)))\r\n",
        "        for t, char in enumerate(sentence):\r\n",
        "            x_pred[0, t, char_to_ind[char]] = 1\r\n",
        "\r\n",
        "        preds = model2.predict(x_pred, verbose=0)[0]\r\n",
        "        next_index = sample(preds, temperature)\r\n",
        "        next_char = ind_to_char[next_index]\r\n",
        "\r\n",
        "        generated += next_char\r\n",
        "        sentence = sentence[1:] + next_char\r\n",
        "\r\n",
        "        sys.stdout.write(next_char)\r\n",
        "        sys.stdout.flush()\r\n",
        "    print()\r\n",
        "    return generated"
      ],
      "execution_count": null,
      "outputs": []
    },
    {
      "cell_type": "code",
      "metadata": {
        "colab": {
          "base_uri": "https://localhost:8080/"
        },
        "id": "hwj7aQZd7tku",
        "outputId": "6ffacebb-54f8-4bbf-80ed-029770372d09"
      },
      "source": [
        "for temp in [0.01, 0.2, 0.5, 0.8, 1.0]:\r\n",
        "    generate_w_seed('Ilyascim, kaseyi kirmissin ops'.lower(),temp)\r\n",
        "    print()\r\n",
        "print(\"\\n=====================================================================================\\n\")"
      ],
      "execution_count": null,
      "outputs": [
        {
          "output_type": "stream",
          "text": [
            "temperature: 0.01\n",
            "ilyascim, kaseyi kirmissin opsinin kara bile bir ben korkular kafam gözlerimde kalan karanlıkta kalan bir de başka bir gün bu kadar sorum var\n",
            "bir de bir de bir de bir de ben değildim ben bu dertlerimin sebebi…\n",
            "ben bir gün bugün bu kadar sorum var\n",
            "bir de bir de bir de bir de bir de ben değildim ben bu dertlerimin sebebi…\n",
            "ben bir gün bugün bu kadar sorum var\n",
            "bir de bir de bir de bir de ben değildim ben bu dertlerimin sebebi…\n",
            "ben bir gün bugün bu kadar sorum var\n",
            "bir de bir de bir de bir de bir de ben değildim ben bu dertlerimin\n",
            "\n",
            "temperature: 0.2\n",
            "ilyascim, kaseyi kirmissin opsini karabasini kara bir bak bakarsan aga bi bak ve bu rap benim stilim\n",
            "bak bi kaç kalem etkiler için bir de başka bir de ben seni beklemek benim için\n",
            "ben bir gün bugün beni bu gece yarına yakın bir de ben kaldım\n",
            "yanıma gelen o benim adım adamım\n",
            "arada bir kızım bir çoğu düşük olmaz sanki bir bak bir de ben değil bir gün bu benim staylım\n",
            "rap benim için bu dertlerimin sebebi…\n",
            "ben beni bilirim ben derdime dersini denedim\n",
            "kimseyi gördüm gördüm gözleri yeşil\n",
            "dünyaya kadar sevdiğini söylesen\n",
            "yüreğime g\n",
            "\n",
            "temperature: 0.5\n",
            "ilyascim, kaseyi kirmissin opsik deniz kum biter madem olsa da yok\n",
            "kanka olsun olmesin ya da kalp kalk\n",
            "salvo sana kalan kafanıza karışır\n",
            "kimine göre bak olur da bir de bir sortan var\n",
            "yinede bi yanım dolu bak bi yarı yaraya kalmaz bir de bir yandan yedikleri\n",
            "fermanın kolay kara bulutları boşluktan uzaklaşan kaçtı\n",
            "kandıramadın yarın değil ben kırma akıllı yaşamak için\n",
            "ama ben bir de gül bu son bir sefer göz olmaz sana karanlık bir hayatın\n",
            "kafamı yok kanayan her yeri tartar\n",
            "ben yaralamadan çıkaramaz bir seviyoruz\n",
            "kalbim yaptığı\n",
            "\n",
            "temperature: 0.8\n",
            "ilyascim, kaseyi kirmissin opsistim aniden bela mori-veri yaparken\n",
            "anlatırım beklediğim bu güne geldim herkes bana kayıp da\n",
            "dikiştim etkilendi toprağında,\n",
            "hepinize koydum menalenin allah’da\n",
            "o ilk baba artık kızgan bu şehir kısa gösteremiyorum ama yazdım, yardım ettim\n",
            "anına kadar abi saklı gizli gizli beynin farkına gel beni bağla duydum\n",
            "ya da kalktım sen git iş bitmen gel\n",
            "hedefte işe böyle\n",
            "değiştirmezsen gerek eyledi\n",
            "yek gelen gel\n",
            "yeni bakı canı kelimeler ve 4— para yanarsın \n",
            "ah cebinde içimde var mı tamam\n",
            "sevimmiyo soğuk bu\n",
            "\n",
            "temperature: 1.0\n",
            "ilyascim, kaseyi kirmissin opsik seni sıkı\n",
            "ama nerde kalemim kafa tutması\n",
            "flee vari size, sen gibi bir doyu\n",
            "hep bir anda\n",
            "uyınmayan güneş yok olmaz kimse görmeden,\n",
            "kalanları aşakta\n",
            "kararmıştı bir ezildi dönüşü kolay,\n",
            "ghettolarda adam gong\n",
            "sanki filme verdi kemer ayakların gelir sözün\n",
            "silahları peşinde\n",
            "sokaklar hikiniz değil, suçu er ararım her solukmu\n",
            "gazla bir kapar\n",
            "bakkan yok düzen sokaklarda\n",
            "taş gözlerindeki aklı kayan\n",
            "bak anlat donmaya dayan!\n",
            "nerede mişlin\n",
            "aşı başina sık etme beni serebe saittin zemin\n",
            "kamilize şaka ne işi\n",
            "\n",
            "\n",
            "=====================================================================================\n",
            "\n"
          ],
          "name": "stdout"
        }
      ]
    },
    {
      "cell_type": "code",
      "metadata": {
        "colab": {
          "base_uri": "https://localhost:8080/"
        },
        "id": "_m0f7w6Q7tmi",
        "outputId": "2331ccbf-658d-419b-e11f-48b045e01a2e"
      },
      "source": [
        "file_ = open('/content/drive/MyDrive/Colab Notebooks/NLP/Song Lyric Generator/eski az kullanilmis din lazim.txt', 'w')\r\n",
        "\r\n",
        "for temp in [0.01, 0.1, 0.2, 0.5, 0.8, 1.0]:\r\n",
        "    file_.write(generate_w_seed('eski az kullanılmış din lazım '.lower(),temp))\r\n",
        "    file_.write(\"\\n=====================================================================================\\n\")\r\n",
        "    print(\"\\n=====================================================================================\\n\")\r\n",
        "\r\n",
        "file_.close()"
      ],
      "execution_count": null,
      "outputs": [
        {
          "output_type": "stream",
          "text": [
            "temperature: 0.01\n",
            "eski az kullanılmış din lazım bir de bak bir de ben karardım yarım yarın akıllı benim, sana benim adım adamım ama ben affetmem ben affetmem\n",
            "ben affetmem ben affetmem\n",
            "ben affetmem ben affetmem\n",
            "ben anlatmam gerekir,\n",
            "ama olmazz bu kadar da bir de ben bu dertlerimin seri\n",
            "ben bir de ben değilim ben bu gece yarına bak\n",
            "bu sene bak bi bak ve de bi bak bi kapı kapalı yakın\n",
            "ama biz de bir de bir sabah gününü görmez gerekir\n",
            "ama ben de geldim yaşamak gerektirir bir de ben değildim ben bu gece yarınımı sen bir adım at ya da kalk yol al b\n",
            "\n",
            "=====================================================================================\n",
            "\n",
            "temperature: 0.1\n",
            "eski az kullanılmış din lazım bir de ben aynı yarım akıllı benim, sana benim adım adamım ama ben seni karanlıkta kalan bir de ben bu dertlerimin sebebi…\n",
            "ben bir gün bugün bu olanlara dayanamam ama hazırım.\n",
            "ben bir gün bu yana benim olamam\n",
            "ama ben bu olanlara dayanamam ama hazırım.\n",
            "sen bir anda yok olmadım ben bu kadar sorum var\n",
            "benim bir bak bir yanım bak bi kalem kalkmaz\n",
            "bir gün gelir güneş doğar güneş doğar ben kararlıca, bir de ben değilim ben bu gece yarına bak\n",
            "bi de bir gün bu dünya hep bir de ben bir ben değilim ben de\n",
            "\n",
            "=====================================================================================\n",
            "\n",
            "temperature: 0.2\n",
            "eski az kullanılmış din lazım bir bak bir farkında kalmamış olmaz\n",
            "bir gün gelir güneş gibi bir bakarsın ben bi başka\n",
            "bir gün bu şehir kan kusucak kararlıca, bir de bir de ben değilim ben değilim ben seni bu dertlerimin serin\n",
            "ben senin için bir de benim için bir de benim için bir de ben seni\n",
            "ben bir bak bir de bir de bir de ben değildim ben bu kadar da benim, sonra bir de benim staylım\n",
            "rapim hayatımın değil ben kaderim arkadaşım\n",
            "bir gün bir arada bir derdim ne de ben senin adını kaldıramadın\n",
            "ben bir gün bu yana beni bildiğim \n",
            "\n",
            "=====================================================================================\n",
            "\n",
            "temperature: 0.5\n",
            "eski az kullanılmış din lazım gelir güneş değil bir yalan söyledim ben\n",
            "yarınımda takılı bir gün ben yasaklı gözler olmuş ben kararmıştı beni bi dert gözlerim diye dur bir de benim bir dünya değildi.\n",
            "ama galiba\n",
            "bütün bu olanlara dayanamam ama hazırım.\n",
            "hey giden bir gün gelir\n",
            "bu sefer ben olsam da yok ki bi dert seviyorum\n",
            "sen kendimi denesem de alıştım ben derdime değil yanıma gelir\n",
            "belki bu dünyada hep bir gün bir dünya kafanı sarmadı bu kadar hadi beni geldi kalk beni arayan bir şeyi demeden önce\n",
            "ben bir başıma daha da bekle\n",
            "\n",
            "=====================================================================================\n",
            "\n",
            "temperature: 0.8\n",
            "eski az kullanılmış din lazım her yerde bir andan\n",
            "ben yaşarım ben yaşamım, dar şarkılar acılar da yıldızlara\n",
            "kan gözlerini bırak, kolay gibi öyle,\n",
            "zaman gözlerin karanlık gözü paralı\n",
            "karanlıklar, pozisyonu dolu sana bu rapsiz anani.\n",
            "sokaklarda gidenlerin kahramanda\n",
            "yürümez ters ama görünce kazil kana döndü bi dostum etik değilmişim kafamı bilemem\n",
            "derken derin hala\n",
            "gözünü görmezsen dinler bir yerde bu gece\n",
            "çok kimse içim biter ki cevap ver burda insana bu talak\n",
            "bu benim stilim\n",
            "adım ucu bu adamın artık bir milyar\n",
            "ve de grevdey\n",
            "\n",
            "=====================================================================================\n",
            "\n",
            "temperature: 1.0\n",
            "eski az kullanılmış din lazım şahketmeler\n",
            "bir adım at bu rap beni sen gibi\n",
            "sensiz değil bir dertleş yanında bir sabahlar\n",
            "ayı gözü kanser gibi bu rap için geberine, i̇tte görüyorum adam dolu çat gel hadi saklamak var o köpek oldu.mu me\n",
            "sanki yırtık aklımı alan acımasız\n",
            "tutma gözünün haklı senin gibi bir gülüm.\n",
            "dünya doğru hiç taş üzsede\n",
            "bokver bir popçu dinansız\n",
            "10 yılın manitalar bedelide\n",
            "bi başka üç kuruş ama fakat bunu kafana takılı ümiğe donunu lan yakalarım haklı\n",
            "bunlar kanka sana çarpıştır saya orta kalır\n",
            "yara bağlamış \n",
            "\n",
            "=====================================================================================\n",
            "\n"
          ],
          "name": "stdout"
        }
      ]
    },
    {
      "cell_type": "code",
      "metadata": {
        "colab": {
          "base_uri": "https://localhost:8080/"
        },
        "id": "A3phrORS7tpG",
        "outputId": "01317c27-af5f-4aaf-d577-6d81a966d1e2"
      },
      "source": [
        "file_ = open('/content/drive/MyDrive/Colab Notebooks/NLP/Song Lyric Generator/Muhammed görse saçını yolardi.txt', 'w')\r\n",
        "\r\n",
        "for temp in [0.05, 0.1, 0.2, 0.5, 0.8, 1.0]:\r\n",
        "    file_.write(f'temperature: {temp}\\n')\r\n",
        "    file_.write(generate_w_seed('Muhammed görse saçını yolardi '.lower(),temp))\r\n",
        "    file_.write(\"\\n=====================================================================================\\n\")\r\n",
        "    print(\"\\n=====================================================================================\\n\")\r\n",
        "\r\n",
        "file_.close()"
      ],
      "execution_count": null,
      "outputs": [
        {
          "output_type": "stream",
          "text": [
            "temperature: 0.05\n",
            "muhammed görse saçını yolardi gözlerimi\n",
            "gördüğüm yerde sorun var\n",
            "bir gün gelir güneş doğar güneş yarar karanlıkta kalan güneşler yaşar kararlıca, bir de ben yarım yarım kalır\n",
            "ben bir bakışlarımı bilemedi ki derdimi kaldıramadı\n",
            "bir gün bir de benim sana benden sevdiğimi söylesem\n",
            "alay edip gülermisin bir gün bugün bu kadar sorum var\n",
            "bir de bir de bir de bir de bir başka bir de ben bu değil benim için\n",
            "ben bir gün bu gece de gün gelir\n",
            "güneşi yakın gözünü bile değil ben benim için bir de benim için bir de ben bu dertlerimin sebeb\n",
            "\n",
            "=====================================================================================\n",
            "\n",
            "temperature: 0.1\n",
            "muhammed görse saçını yolardi gözlerimi\n",
            "silemedim yaşlı gözlerini\n",
            "ölüm yakın görüyorum izlerini\n",
            "haydi son bir defa tutayım ellerini\n",
            "hayatımın derinliklerinde bir de ben değilim ben bu gece yarına bak\n",
            "bu sene bi bak bi bak ve de bi bak bi kapı kapa bu benim adım playboy playboy\n",
            "playboy playboy benim adım playboy playboy\n",
            "playboy playboy benim adım playboy playboy\n",
            "playboy playboy benim adım playboy playboy\n",
            "playboy playboy benim adım playboy playboy\n",
            "playboy playboy benim adım playboy playboy\n",
            "playboy playboy benim adım playboy pl\n",
            "\n",
            "=====================================================================================\n",
            "\n",
            "temperature: 0.2\n",
            "muhammed görse saçını yolardi geldi dersin ben de ben derdim\n",
            "sen bir anlıktır ben de geldik beni sevdiğimi söylesem\n",
            "de benim stilim\n",
            "ben değilim ben bu gece yarına kaldım yarım yarını yarı yarıya\n",
            "her şeyi yarıya kalan konuşur bu benim sonunda benim, yolumu kaldır benim, seni benim adım playboy playboy\n",
            "playboy playboy benim adım playboy playboy\n",
            "playboy playboy benim adım playboy playboy\n",
            "playboy playboy benim adım playboy playboy\n",
            "playboy playboy benim adım playboy playboy\n",
            "playboy playboy benim adım playboy playboy\n",
            "playboy playb\n",
            "\n",
            "=====================================================================================\n",
            "\n",
            "temperature: 0.5\n",
            "muhammed görse saçını yolardi kafamda bir kararmıştı bastır\n",
            "yanında olmaz hayat senin için değil sözüm yok\n",
            "bir dönem düzeni yok bi filik gibi bu tane\n",
            "her gün ölür ama bir bak bu kalem kalk bu kalp\n",
            "ateşi yakın ateşi döne giderim\n",
            "bu ölüm kanar için değil benim tek bir ihtimal\n",
            "var\n",
            "her şeyin arasına ince bir hat\n",
            "bir şeyi demeden önce bir derem\n",
            "bir gün bi gün bu baldan doldurur senin için\n",
            "bu konuşulan her kolumda kalmış\n",
            "kimseyi bende düşünüp geri gelir kalktım ben bende funki capa duymasın\n",
            "sen yetersiz senin için beni bi ben deği\n",
            "\n",
            "=====================================================================================\n",
            "\n",
            "temperature: 0.8\n",
            "muhammed görse saçını yolardi ölümü\n",
            "ufak koktun annem gibi yolunu tangı gevelerde\n",
            "yelkende ağlar olduk tabi kendi sorgulamaz,\n",
            "kol gitti ayrilirsin bir de bak lan\n",
            "as ölüme rakım popu şiddet konuştu bu faneler yok\n",
            "gerçekleri işim\n",
            "çıktığını döndü yaraları atlatır hep nerede herkesi\n",
            "ben seni saldırmazsa derim\n",
            "kafası toplama gel gülümcü battı leş\n",
            "yaptığın hakkında kalacak değil mi bak yok nigga garip o alakonu yatarim her fakir asir, adiyen bunu öyle yazdi garip bilgin\n",
            "umurumda moşallah haram dağıtmış sahibe pana yapışacak tüm al\n",
            "\n",
            "=====================================================================================\n",
            "\n",
            "temperature: 1.0\n",
            "muhammed görse saçını yolardi bu şehirlen\n",
            "herkesin bir ömür üzerken kırılmışsa şimdi izin\n",
            "sabırlar zaten küfürden olmaz asla kazandım\n",
            "bu kadına git kalkışkenim ibne\n",
            "konuşabileceğim hip-hop içerir\n",
            "alıpon iki bombana kor! tekrar eder ama bana manitaya hayyran tayfa\n",
            "bu montik atıldı göve boğazı adına sayan hayatı\n",
            "bide bu zaman öyle para kazan\n",
            "bu reğabe’ neden\n",
            "robot beyin eğlenemezsen\n",
            "diss demedi ve de sans mistik aldi dert, artik hiç ramın kolay harbi canın\n",
            "yazık hiç ve nüsumet ben tohar\n",
            "boynumla harcancık lan kafanı yok rıhata\n",
            "\n",
            "=====================================================================================\n",
            "\n"
          ],
          "name": "stdout"
        }
      ]
    },
    {
      "cell_type": "code",
      "metadata": {
        "colab": {
          "base_uri": "https://localhost:8080/"
        },
        "id": "X-eFlvSr7tqS",
        "outputId": "d6663ca3-0864-49fb-dbba-be8f1c160611"
      },
      "source": [
        "file_ = open('/content/drive/MyDrive/Colab Notebooks/NLP/Song Lyric Generator/Askerliğe hep önem vermişindir.txt', 'w')\r\n",
        "\r\n",
        "for temp in [0.05, 0.1, 0.2, 0.5, 0.8, 1.0]:\r\n",
        "    file_.write(f'temperature: {temp}\\n')\r\n",
        "    file_.write(generate_w_seed('Askerliğe hep önem vermişindir'.lower(),temp))\r\n",
        "    file_.write(\"\\n=====================================================================================\\n\")\r\n",
        "    print(\"\\n=====================================================================================\\n\")\r\n",
        "\r\n",
        "file_.close()"
      ],
      "execution_count": null,
      "outputs": [
        {
          "output_type": "stream",
          "text": [
            "temperature: 0.05\n",
            "askerliğe hep önem vermişindir\n",
            "ben bir gün gelir güneş doğar güneş gözlerim kan kusucak sana bu kadar benim için bir de ben değilim ben değilim ben değilim.\n",
            "sen bi de benim öyle değildi bir ben değilim ben bu gece de gün benim için\n",
            "ben bir gün bugün bu benim staylım\n",
            "rap yaparken ben affetmem\n",
            "ben bu yüzden sen değil benim seni bekler benim için\n",
            "ben bir de benim ölüm ve de bir de ben değilim ben adımı sana dert değil\n",
            "benim işim bi gün bugün bu yoldan geçen kalkışmaz ki bir de ben bir başka bir de ben bu gece yarına bak\n",
            "bu sene\n",
            "\n",
            "=====================================================================================\n",
            "\n",
            "temperature: 0.1\n",
            "askerliğe hep önem vermişindir ben geri gelir gelir gelir gülümse,\n",
            "bir gün gelir gününü görmediğim gün beni bir bak bir de bir de ben değilim ben değilim ben değilim.\n",
            "durdur, benim, solunu bul\n",
            "beni bu sefer ben olamam\n",
            "olamam\n",
            "bir de ben değilim ben bu gece yarına bak\n",
            "bu sene beni bile bu dert et\n",
            "bir şey yok hiç bi kaç yanımda bir başka bir bak ve ben bir başka\n",
            "bir gün bu yolda bir de bir de ben bu yolda bir de benim stilim\n",
            "ben bu gece kafamı benim, sana beni bi ben bu dertlerimin sebebi…\n",
            "bir gün gelir güneş doğuyor ben bir be\n",
            "\n",
            "=====================================================================================\n",
            "\n",
            "temperature: 0.2\n",
            "askerliğe hep önem vermişindir\n",
            "ben de geri geldim ölümü geri geldi beni benim, sahne değil ki benim için bir de benim için bir de ben değilim ben affetmem\n",
            "ben bu şehir kan kusucak suçlu ben bu defterim her kalkışmadım\n",
            "kimseyi benim, sana benim için bir de benim için bir de benim için bir de benim için biter ben de biliyorum ben karardım\n",
            "yarınım kapıları benim, sana benim adımı dene bile benim adım adım elimi keserim ben adımı atmadan gelen geri dönmek için kafa bulunur ama benim için biter ben ben bu yana beni bilmem\n",
            "ben bu \n",
            "\n",
            "=====================================================================================\n",
            "\n",
            "temperature: 0.5\n",
            "askerliğe hep önem vermişindir\n",
            "ne bu kadar sorun varsa yok bi kere de bu yana\n",
            "yol yok kafamı sarılır kolay kalk al bu bak\n",
            "bu son gibi bir gün yok\n",
            "yan yanıma çıkar o kan dolu bu demez\n",
            "yolları kaybeder mi her güneş gibi dinler\n",
            "sen geldiğinde her şey mermiler\n",
            "ters görüşme sen yarın hayatımı\n",
            "sen bir araba kalabalık mı görmeyen herkes sana bir de ben silah,\n",
            "kara kalemim, takılı karalamaz bir kişlenmek\n",
            "bu bir gün bu gün gün, çekin bir bakarsın kaplanıp dur sakıncalı bu sakıncalı bu sakıncalı bu sakıncalı bu sakıncalı bu sakıncalı \n",
            "\n",
            "=====================================================================================\n",
            "\n",
            "temperature: 0.8\n",
            "askerliğe hep önem vermişindir,\n",
            "ben geri gelir ama giderken\n",
            "ehenneni üretirim gitmez ama kaçarım\n",
            "bu senedir benim mi iştiyorum,\n",
            "benden uzak değil aramızda kendime\n",
            "sizi ürettim melkimiz adamını yediğim yeter ayağı\n",
            "ölürüm azıp doğurdu sevdiğimi orda\n",
            "olmuş bir dünyada kalmaz bu insan\n",
            "eminim değilki yerde yanlış dünyanın altında\n",
            "i̇lerle dolar tekrar,\n",
            "yarını sıkacak bir imzaya bağlar\n",
            "birimiz gibi hayat bi’ sürgün en sonunda\n",
            "savaş yanında bir kulak satın, bul tanıyor hayat\n",
            "bu yüzden yumruğu bahçe yapanlar\n",
            "doğru anlarsın yakala yaş\n",
            "\n",
            "=====================================================================================\n",
            "\n",
            "temperature: 1.0\n",
            "askerliğe hep önem vermişindir ben\n",
            "rhyme gönlümse, ıyaksam oldu nefret etmek çöpte bak\n",
            "i̇nsanların sana harcatırken\n",
            "dıylaksa unuttuğunda dikkat et\n",
            "çıktığın yalnızım \n",
            "ama babamın dımarında olmadı onu bu\n",
            "ilahalığından işime kalsak dönmek.\n",
            "bu şehir başına çıktı bass lin,\n",
            "not ipi gibi şimdi ben yalnız yüzdüm\n",
            "ya denizim sırtında tas benim, arkadaşlıkları büyük\n",
            "ben de gülermiş olsum ne ereksisi\n",
            "umutlar, durmazın\n",
            "açık aralarına çalıyo’ muntartı başka iş, azınırız eğ başında\n",
            "yüksel fazla falan gözler nasıl\n",
            "gözlerimi duyan izler daha\n",
            "\n",
            "=====================================================================================\n",
            "\n"
          ],
          "name": "stdout"
        }
      ]
    },
    {
      "cell_type": "code",
      "metadata": {
        "colab": {
          "base_uri": "https://localhost:8080/",
          "height": 1000
        },
        "id": "IR0V-JZs7tq5",
        "outputId": "3d354c54-f7b3-4720-cbdb-5e859de2aa20"
      },
      "source": [
        "file_ = open('/content/drive/MyDrive/Colab Notebooks/NLP/Song Lyric Generator/Yeminle küstü çağır olm adamı.txt', 'w')\r\n",
        "\r\n",
        "for temp in [0.05, 0.1, 0.2, 0.5, 0.8, 1.0]:\r\n",
        "    file_.write(f'temperature: {temp}\\n')\r\n",
        "    file_.write(generate_w_seed('Yeminle küstü çağır olm adamı '.lower(),temp))\r\n",
        "    file_.write(\"\\n=====================================================================================\\n\")\r\n",
        "    print(\"\\n=====================================================================================\\n\")\r\n",
        "\r\n",
        "file_.close()"
      ],
      "execution_count": null,
      "outputs": [
        {
          "output_type": "stream",
          "text": [
            "temperature: 0.05\n",
            "yeminle küstü çağır olm adamı ben kararı verin\n",
            "bir de bir de bir de ben değildim ben bu dertlerimin sebebi…\n",
            "bir gün gelir güneş doğuyor bir de ben bir de ben bende sen değilim ben bu gece yarına bak\n",
            "bi bak bi kara bu benim adım playboy playboy\n",
            "playboy playboy benim adım playboy playboy\n",
            "playboy playboy benim adım playboy playboy\n",
            "playboy playboy benim adım playboy playboy\n",
            "playboy playboy benim adım playboy playboy\n",
            "playboy playboy benim adım playboy playboy\n",
            "playboy playboy benim adım playboy playboy\n",
            "playboy playboy benim adım p\n",
            "\n",
            "=====================================================================================\n",
            "\n",
            "temperature: 0.1\n",
            "yeminle küstü çağır olm adamı ben sahte güneş gibi dünya değiştirir bir gün beni bir de ben değilim ben değilim ben değilim.\n",
            "durdur, her şeyi devam ediyoooooo..\n",
            "bu yolu yorganı bulamadım her biri geri gelir her gün bir de bir de ben bir başka bir de ben bu gece yarınıma değiştirmiş bir de ben yaparken ben değilim ben bu dertlerimin sebebi…\n",
            "bir gün gelir güneş doğuyor ben bende sen benim adım playboy playboy\n",
            "playboy playboy benim adım playboy playboy\n",
            "playboy playboy benim adım playboy playboy\n",
            "playboy playboy benim adım playbo\n",
            "\n",
            "=====================================================================================\n",
            "\n",
            "temperature: 0.2\n",
            "yeminle küstü çağır olm adamı ben sabaha kadar ama ben ben seni karanlıkta benim, sana değil ben bu benim stilim\n",
            "ben bu gece yarına bak\n",
            "bi sen bi kara bulut verip de bir de benim adım playboy\n",
            "playboy playboy benim adım playboy playboy\n",
            "playboy playboy benim adım playboy playboy\n",
            "playboy playboy benim adım playboy playboy\n",
            "playboy playboy benim adım playboy playboy\n",
            "playboy playboy benim adım playboy playboy\n",
            "playboy playboy benim adım playboy playboy\n",
            "playboy playboy benim adım playboy playboy\n",
            "playboy playboy benim adım playboy pl\n",
            "\n",
            "=====================================================================================\n",
            "\n",
            "temperature: 0.5\n",
            "yeminle küstü çağır olm adamı bile bu derim bi kere gelir\n",
            "bu bir şeyler döndü yakar\n",
            "dikkat et bu rap i̇çinde ayak\n",
            "bir film gibi olmaz her şey senin için ben kararım kaderim\n",
            "gene de dün gece kadar değil mi ben bir tek bi kelime yenilendiricem\n",
            "hakkında olmayan bir kadeh alıp sözünü takıp dolar\n",
            "ama ben seni karanlıktan ağlar\n",
            "kalkışmış kadar yürümez bu da benim için\n",
            "be"
          ],
          "name": "stdout"
        },
        {
          "output_type": "error",
          "ename": "KeyboardInterrupt",
          "evalue": "ignored",
          "traceback": [
            "\u001b[0;31m---------------------------------------------------------------------------\u001b[0m",
            "\u001b[0;31mInvalidArgumentError\u001b[0m                      Traceback (most recent call last)",
            "\u001b[0;32m/usr/local/lib/python3.6/dist-packages/tensorflow/python/framework/ops.py\u001b[0m in \u001b[0;36mget_attr\u001b[0;34m(self, name)\u001b[0m\n\u001b[1;32m   2530\u001b[0m       \u001b[0;32mwith\u001b[0m \u001b[0mc_api_util\u001b[0m\u001b[0;34m.\u001b[0m\u001b[0mtf_buffer\u001b[0m\u001b[0;34m(\u001b[0m\u001b[0;34m)\u001b[0m \u001b[0;32mas\u001b[0m \u001b[0mbuf\u001b[0m\u001b[0;34m:\u001b[0m\u001b[0;34m\u001b[0m\u001b[0;34m\u001b[0m\u001b[0m\n\u001b[0;32m-> 2531\u001b[0;31m         \u001b[0mpywrap_tf_session\u001b[0m\u001b[0;34m.\u001b[0m\u001b[0mTF_OperationGetAttrValueProto\u001b[0m\u001b[0;34m(\u001b[0m\u001b[0mself\u001b[0m\u001b[0;34m.\u001b[0m\u001b[0m_c_op\u001b[0m\u001b[0;34m,\u001b[0m \u001b[0mname\u001b[0m\u001b[0;34m,\u001b[0m \u001b[0mbuf\u001b[0m\u001b[0;34m)\u001b[0m\u001b[0;34m\u001b[0m\u001b[0;34m\u001b[0m\u001b[0m\n\u001b[0m\u001b[1;32m   2532\u001b[0m         \u001b[0mdata\u001b[0m \u001b[0;34m=\u001b[0m \u001b[0mpywrap_tf_session\u001b[0m\u001b[0;34m.\u001b[0m\u001b[0mTF_GetBuffer\u001b[0m\u001b[0;34m(\u001b[0m\u001b[0mbuf\u001b[0m\u001b[0;34m)\u001b[0m\u001b[0;34m\u001b[0m\u001b[0;34m\u001b[0m\u001b[0m\n",
            "\u001b[0;31mInvalidArgumentError\u001b[0m: Operation 'args_0' has no attr named '_read_only_resource_inputs'.",
            "\nDuring handling of the above exception, another exception occurred:\n",
            "\u001b[0;31mKeyboardInterrupt\u001b[0m                         Traceback (most recent call last)",
            "\u001b[0;32m<ipython-input-81-6cf66ab3ff05>\u001b[0m in \u001b[0;36m<module>\u001b[0;34m()\u001b[0m\n\u001b[1;32m      3\u001b[0m \u001b[0;32mfor\u001b[0m \u001b[0mtemp\u001b[0m \u001b[0;32min\u001b[0m \u001b[0;34m[\u001b[0m\u001b[0;36m0.05\u001b[0m\u001b[0;34m,\u001b[0m \u001b[0;36m0.1\u001b[0m\u001b[0;34m,\u001b[0m \u001b[0;36m0.2\u001b[0m\u001b[0;34m,\u001b[0m \u001b[0;36m0.5\u001b[0m\u001b[0;34m,\u001b[0m \u001b[0;36m0.8\u001b[0m\u001b[0;34m,\u001b[0m \u001b[0;36m1.0\u001b[0m\u001b[0;34m]\u001b[0m\u001b[0;34m:\u001b[0m\u001b[0;34m\u001b[0m\u001b[0;34m\u001b[0m\u001b[0m\n\u001b[1;32m      4\u001b[0m     \u001b[0mfile_\u001b[0m\u001b[0;34m.\u001b[0m\u001b[0mwrite\u001b[0m\u001b[0;34m(\u001b[0m\u001b[0;34mf'temperature: {temp}\\n'\u001b[0m\u001b[0;34m)\u001b[0m\u001b[0;34m\u001b[0m\u001b[0;34m\u001b[0m\u001b[0m\n\u001b[0;32m----> 5\u001b[0;31m     \u001b[0mfile_\u001b[0m\u001b[0;34m.\u001b[0m\u001b[0mwrite\u001b[0m\u001b[0;34m(\u001b[0m\u001b[0mgenerate_w_seed\u001b[0m\u001b[0;34m(\u001b[0m\u001b[0;34m'Yeminle küstü çağır olm adamı '\u001b[0m\u001b[0;34m.\u001b[0m\u001b[0mlower\u001b[0m\u001b[0;34m(\u001b[0m\u001b[0;34m)\u001b[0m\u001b[0;34m,\u001b[0m\u001b[0mtemp\u001b[0m\u001b[0;34m)\u001b[0m\u001b[0;34m)\u001b[0m\u001b[0;34m\u001b[0m\u001b[0;34m\u001b[0m\u001b[0m\n\u001b[0m\u001b[1;32m      6\u001b[0m     \u001b[0mfile_\u001b[0m\u001b[0;34m.\u001b[0m\u001b[0mwrite\u001b[0m\u001b[0;34m(\u001b[0m\u001b[0;34m\"\\n=====================================================================================\\n\"\u001b[0m\u001b[0;34m)\u001b[0m\u001b[0;34m\u001b[0m\u001b[0;34m\u001b[0m\u001b[0m\n\u001b[1;32m      7\u001b[0m     \u001b[0mprint\u001b[0m\u001b[0;34m(\u001b[0m\u001b[0;34m\"\\n=====================================================================================\\n\"\u001b[0m\u001b[0;34m)\u001b[0m\u001b[0;34m\u001b[0m\u001b[0;34m\u001b[0m\u001b[0m\n",
            "\u001b[0;32m<ipython-input-52-556f1ff0e027>\u001b[0m in \u001b[0;36mgenerate_w_seed\u001b[0;34m(sentence, temperature)\u001b[0m\n\u001b[1;32m     13\u001b[0m             \u001b[0mx_pred\u001b[0m\u001b[0;34m[\u001b[0m\u001b[0;36m0\u001b[0m\u001b[0;34m,\u001b[0m \u001b[0mt\u001b[0m\u001b[0;34m,\u001b[0m \u001b[0mchar_to_ind\u001b[0m\u001b[0;34m[\u001b[0m\u001b[0mchar\u001b[0m\u001b[0;34m]\u001b[0m\u001b[0;34m]\u001b[0m \u001b[0;34m=\u001b[0m \u001b[0;36m1\u001b[0m\u001b[0;34m\u001b[0m\u001b[0;34m\u001b[0m\u001b[0m\n\u001b[1;32m     14\u001b[0m \u001b[0;34m\u001b[0m\u001b[0m\n\u001b[0;32m---> 15\u001b[0;31m         \u001b[0mpreds\u001b[0m \u001b[0;34m=\u001b[0m \u001b[0mmodel2\u001b[0m\u001b[0;34m.\u001b[0m\u001b[0mpredict\u001b[0m\u001b[0;34m(\u001b[0m\u001b[0mx_pred\u001b[0m\u001b[0;34m,\u001b[0m \u001b[0mverbose\u001b[0m\u001b[0;34m=\u001b[0m\u001b[0;36m0\u001b[0m\u001b[0;34m)\u001b[0m\u001b[0;34m[\u001b[0m\u001b[0;36m0\u001b[0m\u001b[0;34m]\u001b[0m\u001b[0;34m\u001b[0m\u001b[0;34m\u001b[0m\u001b[0m\n\u001b[0m\u001b[1;32m     16\u001b[0m         \u001b[0mnext_index\u001b[0m \u001b[0;34m=\u001b[0m \u001b[0msample\u001b[0m\u001b[0;34m(\u001b[0m\u001b[0mpreds\u001b[0m\u001b[0;34m,\u001b[0m \u001b[0mtemperature\u001b[0m\u001b[0;34m)\u001b[0m\u001b[0;34m\u001b[0m\u001b[0;34m\u001b[0m\u001b[0m\n\u001b[1;32m     17\u001b[0m         \u001b[0mnext_char\u001b[0m \u001b[0;34m=\u001b[0m \u001b[0mind_to_char\u001b[0m\u001b[0;34m[\u001b[0m\u001b[0mnext_index\u001b[0m\u001b[0;34m]\u001b[0m\u001b[0;34m\u001b[0m\u001b[0;34m\u001b[0m\u001b[0m\n",
            "\u001b[0;32m/usr/local/lib/python3.6/dist-packages/tensorflow/python/keras/engine/training.py\u001b[0m in \u001b[0;36mpredict\u001b[0;34m(self, x, batch_size, verbose, steps, callbacks, max_queue_size, workers, use_multiprocessing)\u001b[0m\n\u001b[1;32m   1606\u001b[0m           \u001b[0muse_multiprocessing\u001b[0m\u001b[0;34m=\u001b[0m\u001b[0muse_multiprocessing\u001b[0m\u001b[0;34m,\u001b[0m\u001b[0;34m\u001b[0m\u001b[0;34m\u001b[0m\u001b[0m\n\u001b[1;32m   1607\u001b[0m           \u001b[0mmodel\u001b[0m\u001b[0;34m=\u001b[0m\u001b[0mself\u001b[0m\u001b[0;34m,\u001b[0m\u001b[0;34m\u001b[0m\u001b[0;34m\u001b[0m\u001b[0m\n\u001b[0;32m-> 1608\u001b[0;31m           steps_per_execution=self._steps_per_execution)\n\u001b[0m\u001b[1;32m   1609\u001b[0m \u001b[0;34m\u001b[0m\u001b[0m\n\u001b[1;32m   1610\u001b[0m       \u001b[0;31m# Container that configures and calls `tf.keras.Callback`s.\u001b[0m\u001b[0;34m\u001b[0m\u001b[0;34m\u001b[0m\u001b[0;34m\u001b[0m\u001b[0m\n",
            "\u001b[0;32m/usr/local/lib/python3.6/dist-packages/tensorflow/python/keras/engine/data_adapter.py\u001b[0m in \u001b[0;36m__init__\u001b[0;34m(self, x, y, sample_weight, batch_size, steps_per_epoch, initial_epoch, epochs, shuffle, class_weight, max_queue_size, workers, use_multiprocessing, model, steps_per_execution)\u001b[0m\n\u001b[1;32m   1110\u001b[0m         \u001b[0muse_multiprocessing\u001b[0m\u001b[0;34m=\u001b[0m\u001b[0muse_multiprocessing\u001b[0m\u001b[0;34m,\u001b[0m\u001b[0;34m\u001b[0m\u001b[0;34m\u001b[0m\u001b[0m\n\u001b[1;32m   1111\u001b[0m         \u001b[0mdistribution_strategy\u001b[0m\u001b[0;34m=\u001b[0m\u001b[0mds_context\u001b[0m\u001b[0;34m.\u001b[0m\u001b[0mget_strategy\u001b[0m\u001b[0;34m(\u001b[0m\u001b[0;34m)\u001b[0m\u001b[0;34m,\u001b[0m\u001b[0;34m\u001b[0m\u001b[0;34m\u001b[0m\u001b[0m\n\u001b[0;32m-> 1112\u001b[0;31m         model=model)\n\u001b[0m\u001b[1;32m   1113\u001b[0m \u001b[0;34m\u001b[0m\u001b[0m\n\u001b[1;32m   1114\u001b[0m     \u001b[0mstrategy\u001b[0m \u001b[0;34m=\u001b[0m \u001b[0mds_context\u001b[0m\u001b[0;34m.\u001b[0m\u001b[0mget_strategy\u001b[0m\u001b[0;34m(\u001b[0m\u001b[0;34m)\u001b[0m\u001b[0;34m\u001b[0m\u001b[0;34m\u001b[0m\u001b[0m\n",
            "\u001b[0;32m/usr/local/lib/python3.6/dist-packages/tensorflow/python/keras/engine/data_adapter.py\u001b[0m in \u001b[0;36m__init__\u001b[0;34m(self, x, y, sample_weights, sample_weight_modes, batch_size, epochs, steps, shuffle, **kwargs)\u001b[0m\n\u001b[1;32m    353\u001b[0m     \u001b[0mindices_dataset\u001b[0m \u001b[0;34m=\u001b[0m \u001b[0mindices_dataset\u001b[0m\u001b[0;34m.\u001b[0m\u001b[0mflat_map\u001b[0m\u001b[0;34m(\u001b[0m\u001b[0mslice_batch_indices\u001b[0m\u001b[0;34m)\u001b[0m\u001b[0;34m\u001b[0m\u001b[0;34m\u001b[0m\u001b[0m\n\u001b[1;32m    354\u001b[0m \u001b[0;34m\u001b[0m\u001b[0m\n\u001b[0;32m--> 355\u001b[0;31m     \u001b[0mdataset\u001b[0m \u001b[0;34m=\u001b[0m \u001b[0mself\u001b[0m\u001b[0;34m.\u001b[0m\u001b[0mslice_inputs\u001b[0m\u001b[0;34m(\u001b[0m\u001b[0mindices_dataset\u001b[0m\u001b[0;34m,\u001b[0m \u001b[0minputs\u001b[0m\u001b[0;34m)\u001b[0m\u001b[0;34m\u001b[0m\u001b[0;34m\u001b[0m\u001b[0m\n\u001b[0m\u001b[1;32m    356\u001b[0m \u001b[0;34m\u001b[0m\u001b[0m\n\u001b[1;32m    357\u001b[0m     \u001b[0;32mif\u001b[0m \u001b[0mshuffle\u001b[0m \u001b[0;34m==\u001b[0m \u001b[0;34m\"batch\"\u001b[0m\u001b[0;34m:\u001b[0m\u001b[0;34m\u001b[0m\u001b[0;34m\u001b[0m\u001b[0m\n",
            "\u001b[0;32m/usr/local/lib/python3.6/dist-packages/tensorflow/python/keras/engine/data_adapter.py\u001b[0m in \u001b[0;36mslice_inputs\u001b[0;34m(self, indices_dataset, inputs)\u001b[0m\n\u001b[1;32m    386\u001b[0m \u001b[0;34m\u001b[0m\u001b[0m\n\u001b[1;32m    387\u001b[0m     dataset = dataset.map(\n\u001b[0;32m--> 388\u001b[0;31m         grab_batch, num_parallel_calls=dataset_ops.AUTOTUNE)\n\u001b[0m\u001b[1;32m    389\u001b[0m \u001b[0;34m\u001b[0m\u001b[0m\n\u001b[1;32m    390\u001b[0m     \u001b[0;31m# Default optimizations are disabled to avoid the overhead of (unnecessary)\u001b[0m\u001b[0;34m\u001b[0m\u001b[0;34m\u001b[0m\u001b[0;34m\u001b[0m\u001b[0m\n",
            "\u001b[0;32m/usr/local/lib/python3.6/dist-packages/tensorflow/python/data/ops/dataset_ops.py\u001b[0m in \u001b[0;36mmap\u001b[0;34m(self, map_func, num_parallel_calls, deterministic)\u001b[0m\n\u001b[1;32m   1810\u001b[0m           \u001b[0mnum_parallel_calls\u001b[0m\u001b[0;34m,\u001b[0m\u001b[0;34m\u001b[0m\u001b[0;34m\u001b[0m\u001b[0m\n\u001b[1;32m   1811\u001b[0m           \u001b[0mdeterministic\u001b[0m\u001b[0;34m,\u001b[0m\u001b[0;34m\u001b[0m\u001b[0;34m\u001b[0m\u001b[0m\n\u001b[0;32m-> 1812\u001b[0;31m           preserve_cardinality=True)\n\u001b[0m\u001b[1;32m   1813\u001b[0m \u001b[0;34m\u001b[0m\u001b[0m\n\u001b[1;32m   1814\u001b[0m   \u001b[0;32mdef\u001b[0m \u001b[0mflat_map\u001b[0m\u001b[0;34m(\u001b[0m\u001b[0mself\u001b[0m\u001b[0;34m,\u001b[0m \u001b[0mmap_func\u001b[0m\u001b[0;34m)\u001b[0m\u001b[0;34m:\u001b[0m\u001b[0;34m\u001b[0m\u001b[0;34m\u001b[0m\u001b[0m\n",
            "\u001b[0;32m/usr/local/lib/python3.6/dist-packages/tensorflow/python/data/ops/dataset_ops.py\u001b[0m in \u001b[0;36m__init__\u001b[0;34m(self, input_dataset, map_func, num_parallel_calls, deterministic, use_inter_op_parallelism, preserve_cardinality, use_legacy_function)\u001b[0m\n\u001b[1;32m   4244\u001b[0m         \u001b[0mself\u001b[0m\u001b[0;34m.\u001b[0m\u001b[0m_transformation_name\u001b[0m\u001b[0;34m(\u001b[0m\u001b[0;34m)\u001b[0m\u001b[0;34m,\u001b[0m\u001b[0;34m\u001b[0m\u001b[0;34m\u001b[0m\u001b[0m\n\u001b[1;32m   4245\u001b[0m         \u001b[0mdataset\u001b[0m\u001b[0;34m=\u001b[0m\u001b[0minput_dataset\u001b[0m\u001b[0;34m,\u001b[0m\u001b[0;34m\u001b[0m\u001b[0;34m\u001b[0m\u001b[0m\n\u001b[0;32m-> 4246\u001b[0;31m         use_legacy_function=use_legacy_function)\n\u001b[0m\u001b[1;32m   4247\u001b[0m     \u001b[0;32mif\u001b[0m \u001b[0mdeterministic\u001b[0m \u001b[0;32mis\u001b[0m \u001b[0;32mNone\u001b[0m\u001b[0;34m:\u001b[0m\u001b[0;34m\u001b[0m\u001b[0;34m\u001b[0m\u001b[0m\n\u001b[1;32m   4248\u001b[0m       \u001b[0mself\u001b[0m\u001b[0;34m.\u001b[0m\u001b[0m_deterministic\u001b[0m \u001b[0;34m=\u001b[0m \u001b[0;34m\"default\"\u001b[0m\u001b[0;34m\u001b[0m\u001b[0;34m\u001b[0m\u001b[0m\n",
            "\u001b[0;32m/usr/local/lib/python3.6/dist-packages/tensorflow/python/data/ops/dataset_ops.py\u001b[0m in \u001b[0;36m__init__\u001b[0;34m(self, func, transformation_name, dataset, input_classes, input_shapes, input_types, input_structure, add_to_graph, use_legacy_function, defun_kwargs)\u001b[0m\n\u001b[1;32m   3523\u001b[0m       \u001b[0;32mwith\u001b[0m \u001b[0mtracking\u001b[0m\u001b[0;34m.\u001b[0m\u001b[0mresource_tracker_scope\u001b[0m\u001b[0;34m(\u001b[0m\u001b[0mresource_tracker\u001b[0m\u001b[0;34m)\u001b[0m\u001b[0;34m:\u001b[0m\u001b[0;34m\u001b[0m\u001b[0;34m\u001b[0m\u001b[0m\n\u001b[1;32m   3524\u001b[0m         \u001b[0;31m# TODO(b/141462134): Switch to using garbage collection.\u001b[0m\u001b[0;34m\u001b[0m\u001b[0;34m\u001b[0m\u001b[0;34m\u001b[0m\u001b[0m\n\u001b[0;32m-> 3525\u001b[0;31m         \u001b[0mself\u001b[0m\u001b[0;34m.\u001b[0m\u001b[0m_function\u001b[0m \u001b[0;34m=\u001b[0m \u001b[0mwrapper_fn\u001b[0m\u001b[0;34m.\u001b[0m\u001b[0mget_concrete_function\u001b[0m\u001b[0;34m(\u001b[0m\u001b[0;34m)\u001b[0m\u001b[0;34m\u001b[0m\u001b[0;34m\u001b[0m\u001b[0m\n\u001b[0m\u001b[1;32m   3526\u001b[0m         \u001b[0;32mif\u001b[0m \u001b[0madd_to_graph\u001b[0m\u001b[0;34m:\u001b[0m\u001b[0;34m\u001b[0m\u001b[0;34m\u001b[0m\u001b[0m\n\u001b[1;32m   3527\u001b[0m           \u001b[0mself\u001b[0m\u001b[0;34m.\u001b[0m\u001b[0m_function\u001b[0m\u001b[0;34m.\u001b[0m\u001b[0madd_to_graph\u001b[0m\u001b[0;34m(\u001b[0m\u001b[0mops\u001b[0m\u001b[0;34m.\u001b[0m\u001b[0mget_default_graph\u001b[0m\u001b[0;34m(\u001b[0m\u001b[0;34m)\u001b[0m\u001b[0;34m)\u001b[0m\u001b[0;34m\u001b[0m\u001b[0;34m\u001b[0m\u001b[0m\n",
            "\u001b[0;32m/usr/local/lib/python3.6/dist-packages/tensorflow/python/eager/function.py\u001b[0m in \u001b[0;36mget_concrete_function\u001b[0;34m(self, *args, **kwargs)\u001b[0m\n\u001b[1;32m   3050\u001b[0m     \"\"\"\n\u001b[1;32m   3051\u001b[0m     graph_function = self._get_concrete_function_garbage_collected(\n\u001b[0;32m-> 3052\u001b[0;31m         *args, **kwargs)\n\u001b[0m\u001b[1;32m   3053\u001b[0m     \u001b[0mgraph_function\u001b[0m\u001b[0;34m.\u001b[0m\u001b[0m_garbage_collector\u001b[0m\u001b[0;34m.\u001b[0m\u001b[0mrelease\u001b[0m\u001b[0;34m(\u001b[0m\u001b[0;34m)\u001b[0m  \u001b[0;31m# pylint: disable=protected-access\u001b[0m\u001b[0;34m\u001b[0m\u001b[0;34m\u001b[0m\u001b[0m\n\u001b[1;32m   3054\u001b[0m     \u001b[0;32mreturn\u001b[0m \u001b[0mgraph_function\u001b[0m\u001b[0;34m\u001b[0m\u001b[0;34m\u001b[0m\u001b[0m\n",
            "\u001b[0;32m/usr/local/lib/python3.6/dist-packages/tensorflow/python/eager/function.py\u001b[0m in \u001b[0;36m_get_concrete_function_garbage_collected\u001b[0;34m(self, *args, **kwargs)\u001b[0m\n\u001b[1;32m   3017\u001b[0m       \u001b[0margs\u001b[0m\u001b[0;34m,\u001b[0m \u001b[0mkwargs\u001b[0m \u001b[0;34m=\u001b[0m \u001b[0;32mNone\u001b[0m\u001b[0;34m,\u001b[0m \u001b[0;32mNone\u001b[0m\u001b[0;34m\u001b[0m\u001b[0;34m\u001b[0m\u001b[0m\n\u001b[1;32m   3018\u001b[0m     \u001b[0;32mwith\u001b[0m \u001b[0mself\u001b[0m\u001b[0;34m.\u001b[0m\u001b[0m_lock\u001b[0m\u001b[0;34m:\u001b[0m\u001b[0;34m\u001b[0m\u001b[0;34m\u001b[0m\u001b[0m\n\u001b[0;32m-> 3019\u001b[0;31m       \u001b[0mgraph_function\u001b[0m\u001b[0;34m,\u001b[0m \u001b[0m_\u001b[0m \u001b[0;34m=\u001b[0m \u001b[0mself\u001b[0m\u001b[0;34m.\u001b[0m\u001b[0m_maybe_define_function\u001b[0m\u001b[0;34m(\u001b[0m\u001b[0margs\u001b[0m\u001b[0;34m,\u001b[0m \u001b[0mkwargs\u001b[0m\u001b[0;34m)\u001b[0m\u001b[0;34m\u001b[0m\u001b[0;34m\u001b[0m\u001b[0m\n\u001b[0m\u001b[1;32m   3020\u001b[0m       \u001b[0mseen_names\u001b[0m \u001b[0;34m=\u001b[0m \u001b[0mset\u001b[0m\u001b[0;34m(\u001b[0m\u001b[0;34m)\u001b[0m\u001b[0;34m\u001b[0m\u001b[0;34m\u001b[0m\u001b[0m\n\u001b[1;32m   3021\u001b[0m       captured = object_identity.ObjectIdentitySet(\n",
            "\u001b[0;32m/usr/local/lib/python3.6/dist-packages/tensorflow/python/eager/function.py\u001b[0m in \u001b[0;36m_maybe_define_function\u001b[0;34m(self, args, kwargs)\u001b[0m\n\u001b[1;32m   3359\u001b[0m \u001b[0;34m\u001b[0m\u001b[0m\n\u001b[1;32m   3360\u001b[0m           \u001b[0mself\u001b[0m\u001b[0;34m.\u001b[0m\u001b[0m_function_cache\u001b[0m\u001b[0;34m.\u001b[0m\u001b[0mmissed\u001b[0m\u001b[0;34m.\u001b[0m\u001b[0madd\u001b[0m\u001b[0;34m(\u001b[0m\u001b[0mcall_context_key\u001b[0m\u001b[0;34m)\u001b[0m\u001b[0;34m\u001b[0m\u001b[0;34m\u001b[0m\u001b[0m\n\u001b[0;32m-> 3361\u001b[0;31m           \u001b[0mgraph_function\u001b[0m \u001b[0;34m=\u001b[0m \u001b[0mself\u001b[0m\u001b[0;34m.\u001b[0m\u001b[0m_create_graph_function\u001b[0m\u001b[0;34m(\u001b[0m\u001b[0margs\u001b[0m\u001b[0;34m,\u001b[0m \u001b[0mkwargs\u001b[0m\u001b[0;34m)\u001b[0m\u001b[0;34m\u001b[0m\u001b[0;34m\u001b[0m\u001b[0m\n\u001b[0m\u001b[1;32m   3362\u001b[0m           \u001b[0mself\u001b[0m\u001b[0;34m.\u001b[0m\u001b[0m_function_cache\u001b[0m\u001b[0;34m.\u001b[0m\u001b[0mprimary\u001b[0m\u001b[0;34m[\u001b[0m\u001b[0mcache_key\u001b[0m\u001b[0;34m]\u001b[0m \u001b[0;34m=\u001b[0m \u001b[0mgraph_function\u001b[0m\u001b[0;34m\u001b[0m\u001b[0;34m\u001b[0m\u001b[0m\n\u001b[1;32m   3363\u001b[0m \u001b[0;34m\u001b[0m\u001b[0m\n",
            "\u001b[0;32m/usr/local/lib/python3.6/dist-packages/tensorflow/python/eager/function.py\u001b[0m in \u001b[0;36m_create_graph_function\u001b[0;34m(self, args, kwargs, override_flat_arg_shapes)\u001b[0m\n\u001b[1;32m   3204\u001b[0m             \u001b[0marg_names\u001b[0m\u001b[0;34m=\u001b[0m\u001b[0marg_names\u001b[0m\u001b[0;34m,\u001b[0m\u001b[0;34m\u001b[0m\u001b[0;34m\u001b[0m\u001b[0m\n\u001b[1;32m   3205\u001b[0m             \u001b[0moverride_flat_arg_shapes\u001b[0m\u001b[0;34m=\u001b[0m\u001b[0moverride_flat_arg_shapes\u001b[0m\u001b[0;34m,\u001b[0m\u001b[0;34m\u001b[0m\u001b[0;34m\u001b[0m\u001b[0m\n\u001b[0;32m-> 3206\u001b[0;31m             capture_by_value=self._capture_by_value),\n\u001b[0m\u001b[1;32m   3207\u001b[0m         \u001b[0mself\u001b[0m\u001b[0;34m.\u001b[0m\u001b[0m_function_attributes\u001b[0m\u001b[0;34m,\u001b[0m\u001b[0;34m\u001b[0m\u001b[0;34m\u001b[0m\u001b[0m\n\u001b[1;32m   3208\u001b[0m         \u001b[0mfunction_spec\u001b[0m\u001b[0;34m=\u001b[0m\u001b[0mself\u001b[0m\u001b[0;34m.\u001b[0m\u001b[0mfunction_spec\u001b[0m\u001b[0;34m,\u001b[0m\u001b[0;34m\u001b[0m\u001b[0;34m\u001b[0m\u001b[0m\n",
            "\u001b[0;32m/usr/local/lib/python3.6/dist-packages/tensorflow/python/framework/func_graph.py\u001b[0m in \u001b[0;36mfunc_graph_from_py_func\u001b[0;34m(name, python_func, args, kwargs, signature, func_graph, autograph, autograph_options, add_control_dependencies, arg_names, op_return_value, collections, capture_by_value, override_flat_arg_shapes)\u001b[0m\n\u001b[1;32m   1029\u001b[0m         if x is not None)\n\u001b[1;32m   1030\u001b[0m \u001b[0;34m\u001b[0m\u001b[0m\n\u001b[0;32m-> 1031\u001b[0;31m     \u001b[0mfunc_graph\u001b[0m\u001b[0;34m.\u001b[0m\u001b[0mvariables\u001b[0m \u001b[0;34m=\u001b[0m \u001b[0mvariables\u001b[0m\u001b[0;34m\u001b[0m\u001b[0;34m\u001b[0m\u001b[0m\n\u001b[0m\u001b[1;32m   1032\u001b[0m \u001b[0;34m\u001b[0m\u001b[0m\n\u001b[1;32m   1033\u001b[0m   \u001b[0;32mif\u001b[0m \u001b[0madd_control_dependencies\u001b[0m\u001b[0;34m:\u001b[0m\u001b[0;34m\u001b[0m\u001b[0;34m\u001b[0m\u001b[0m\n",
            "\u001b[0;32m/usr/local/lib/python3.6/dist-packages/tensorflow/python/framework/auto_control_deps.py\u001b[0m in \u001b[0;36m__exit__\u001b[0;34m(self, unused_type, unused_value, unused_traceback)\u001b[0m\n\u001b[1;32m    407\u001b[0m       \u001b[0;31m# Check for any resource inputs. If we find any, we update control_inputs\u001b[0m\u001b[0;34m\u001b[0m\u001b[0;34m\u001b[0m\u001b[0;34m\u001b[0m\u001b[0m\n\u001b[1;32m    408\u001b[0m       \u001b[0;31m# and last_write_to_resource.\u001b[0m\u001b[0;34m\u001b[0m\u001b[0;34m\u001b[0m\u001b[0;34m\u001b[0m\u001b[0m\n\u001b[0;32m--> 409\u001b[0;31m       \u001b[0;32mfor\u001b[0m \u001b[0minp\u001b[0m\u001b[0;34m,\u001b[0m \u001b[0mresource_type\u001b[0m \u001b[0;32min\u001b[0m \u001b[0m_get_resource_inputs\u001b[0m\u001b[0;34m(\u001b[0m\u001b[0mop\u001b[0m\u001b[0;34m)\u001b[0m\u001b[0;34m:\u001b[0m\u001b[0;34m\u001b[0m\u001b[0;34m\u001b[0m\u001b[0m\n\u001b[0m\u001b[1;32m    410\u001b[0m         \u001b[0mis_read\u001b[0m \u001b[0;34m=\u001b[0m \u001b[0mresource_type\u001b[0m \u001b[0;34m==\u001b[0m \u001b[0mResourceType\u001b[0m\u001b[0;34m.\u001b[0m\u001b[0mREAD_ONLY\u001b[0m\u001b[0;34m\u001b[0m\u001b[0;34m\u001b[0m\u001b[0m\n\u001b[1;32m    411\u001b[0m         \u001b[0minput_id\u001b[0m \u001b[0;34m=\u001b[0m \u001b[0mops\u001b[0m\u001b[0;34m.\u001b[0m\u001b[0mtensor_id\u001b[0m\u001b[0;34m(\u001b[0m\u001b[0minp\u001b[0m\u001b[0;34m)\u001b[0m\u001b[0;34m\u001b[0m\u001b[0;34m\u001b[0m\u001b[0m\n",
            "\u001b[0;32m/usr/local/lib/python3.6/dist-packages/tensorflow/python/framework/auto_control_deps.py\u001b[0m in \u001b[0;36m_get_resource_inputs\u001b[0;34m(op)\u001b[0m\n\u001b[1;32m    530\u001b[0m \u001b[0;32mdef\u001b[0m \u001b[0m_get_resource_inputs\u001b[0m\u001b[0;34m(\u001b[0m\u001b[0mop\u001b[0m\u001b[0;34m)\u001b[0m\u001b[0;34m:\u001b[0m\u001b[0;34m\u001b[0m\u001b[0;34m\u001b[0m\u001b[0m\n\u001b[1;32m    531\u001b[0m   \u001b[0;34m\"\"\"Returns an iterable of resources touched by this `op`.\"\"\"\u001b[0m\u001b[0;34m\u001b[0m\u001b[0;34m\u001b[0m\u001b[0m\n\u001b[0;32m--> 532\u001b[0;31m   \u001b[0mreads\u001b[0m\u001b[0;34m,\u001b[0m \u001b[0mwrites\u001b[0m \u001b[0;34m=\u001b[0m \u001b[0mutils\u001b[0m\u001b[0;34m.\u001b[0m\u001b[0mget_read_write_resource_inputs\u001b[0m\u001b[0;34m(\u001b[0m\u001b[0mop\u001b[0m\u001b[0;34m)\u001b[0m\u001b[0;34m\u001b[0m\u001b[0;34m\u001b[0m\u001b[0m\n\u001b[0m\u001b[1;32m    533\u001b[0m   \u001b[0msaturated\u001b[0m \u001b[0;34m=\u001b[0m \u001b[0;32mFalse\u001b[0m\u001b[0;34m\u001b[0m\u001b[0;34m\u001b[0m\u001b[0m\n\u001b[1;32m    534\u001b[0m   \u001b[0;32mwhile\u001b[0m \u001b[0;32mnot\u001b[0m \u001b[0msaturated\u001b[0m\u001b[0;34m:\u001b[0m\u001b[0;34m\u001b[0m\u001b[0;34m\u001b[0m\u001b[0m\n",
            "\u001b[0;32m/usr/local/lib/python3.6/dist-packages/tensorflow/python/framework/auto_control_deps_utils.py\u001b[0m in \u001b[0;36mget_read_write_resource_inputs\u001b[0;34m(op)\u001b[0m\n\u001b[1;32m    107\u001b[0m \u001b[0;34m\u001b[0m\u001b[0m\n\u001b[1;32m    108\u001b[0m   \u001b[0;32mtry\u001b[0m\u001b[0;34m:\u001b[0m\u001b[0;34m\u001b[0m\u001b[0;34m\u001b[0m\u001b[0m\n\u001b[0;32m--> 109\u001b[0;31m     \u001b[0mread_only_input_indices\u001b[0m \u001b[0;34m=\u001b[0m \u001b[0mop\u001b[0m\u001b[0;34m.\u001b[0m\u001b[0mget_attr\u001b[0m\u001b[0;34m(\u001b[0m\u001b[0mREAD_ONLY_RESOURCE_INPUTS_ATTR\u001b[0m\u001b[0;34m)\u001b[0m\u001b[0;34m\u001b[0m\u001b[0;34m\u001b[0m\u001b[0m\n\u001b[0m\u001b[1;32m    110\u001b[0m   \u001b[0;32mexcept\u001b[0m \u001b[0mValueError\u001b[0m\u001b[0;34m:\u001b[0m\u001b[0;34m\u001b[0m\u001b[0;34m\u001b[0m\u001b[0m\n\u001b[1;32m    111\u001b[0m     \u001b[0;31m# Attr was not set. Add all resource inputs to `writes` and return.\u001b[0m\u001b[0;34m\u001b[0m\u001b[0;34m\u001b[0m\u001b[0;34m\u001b[0m\u001b[0m\n",
            "\u001b[0;32m/usr/local/lib/python3.6/dist-packages/tensorflow/python/framework/ops.py\u001b[0m in \u001b[0;36mget_attr\u001b[0;34m(self, name)\u001b[0m\n\u001b[1;32m   2529\u001b[0m     \u001b[0;32mtry\u001b[0m\u001b[0;34m:\u001b[0m\u001b[0;34m\u001b[0m\u001b[0;34m\u001b[0m\u001b[0m\n\u001b[1;32m   2530\u001b[0m       \u001b[0;32mwith\u001b[0m \u001b[0mc_api_util\u001b[0m\u001b[0;34m.\u001b[0m\u001b[0mtf_buffer\u001b[0m\u001b[0;34m(\u001b[0m\u001b[0;34m)\u001b[0m \u001b[0;32mas\u001b[0m \u001b[0mbuf\u001b[0m\u001b[0;34m:\u001b[0m\u001b[0;34m\u001b[0m\u001b[0;34m\u001b[0m\u001b[0m\n\u001b[0;32m-> 2531\u001b[0;31m         \u001b[0mpywrap_tf_session\u001b[0m\u001b[0;34m.\u001b[0m\u001b[0mTF_OperationGetAttrValueProto\u001b[0m\u001b[0;34m(\u001b[0m\u001b[0mself\u001b[0m\u001b[0;34m.\u001b[0m\u001b[0m_c_op\u001b[0m\u001b[0;34m,\u001b[0m \u001b[0mname\u001b[0m\u001b[0;34m,\u001b[0m \u001b[0mbuf\u001b[0m\u001b[0;34m)\u001b[0m\u001b[0;34m\u001b[0m\u001b[0;34m\u001b[0m\u001b[0m\n\u001b[0m\u001b[1;32m   2532\u001b[0m         \u001b[0mdata\u001b[0m \u001b[0;34m=\u001b[0m \u001b[0mpywrap_tf_session\u001b[0m\u001b[0;34m.\u001b[0m\u001b[0mTF_GetBuffer\u001b[0m\u001b[0;34m(\u001b[0m\u001b[0mbuf\u001b[0m\u001b[0;34m)\u001b[0m\u001b[0;34m\u001b[0m\u001b[0;34m\u001b[0m\u001b[0m\n\u001b[1;32m   2533\u001b[0m     \u001b[0;32mexcept\u001b[0m \u001b[0merrors\u001b[0m\u001b[0;34m.\u001b[0m\u001b[0mInvalidArgumentError\u001b[0m \u001b[0;32mas\u001b[0m \u001b[0me\u001b[0m\u001b[0;34m:\u001b[0m\u001b[0;34m\u001b[0m\u001b[0;34m\u001b[0m\u001b[0m\n",
            "\u001b[0;31mKeyboardInterrupt\u001b[0m: "
          ]
        }
      ]
    },
    {
      "cell_type": "code",
      "metadata": {
        "id": "03L67RMH7tri"
      },
      "source": [
        ""
      ],
      "execution_count": null,
      "outputs": []
    },
    {
      "cell_type": "code",
      "metadata": {
        "id": "QWrpD2l-7tsN"
      },
      "source": [
        ""
      ],
      "execution_count": null,
      "outputs": []
    },
    {
      "cell_type": "code",
      "metadata": {
        "id": "ZH5xhsvp7ts2"
      },
      "source": [
        ""
      ],
      "execution_count": null,
      "outputs": []
    },
    {
      "cell_type": "code",
      "metadata": {
        "id": "LjjDkL197tte"
      },
      "source": [
        ""
      ],
      "execution_count": null,
      "outputs": []
    },
    {
      "cell_type": "code",
      "metadata": {
        "id": "aTdwr4p47tuH"
      },
      "source": [
        ""
      ],
      "execution_count": null,
      "outputs": []
    },
    {
      "cell_type": "code",
      "metadata": {
        "id": "rvn8HcNB7tux"
      },
      "source": [
        ""
      ],
      "execution_count": null,
      "outputs": []
    },
    {
      "cell_type": "code",
      "metadata": {
        "id": "BeGLtCPV7tvf"
      },
      "source": [
        ""
      ],
      "execution_count": null,
      "outputs": []
    },
    {
      "cell_type": "code",
      "metadata": {
        "id": "0i-_6T7j7twJ"
      },
      "source": [
        ""
      ],
      "execution_count": null,
      "outputs": []
    },
    {
      "cell_type": "code",
      "metadata": {
        "id": "NumvmQti7tw0"
      },
      "source": [
        ""
      ],
      "execution_count": null,
      "outputs": []
    },
    {
      "cell_type": "code",
      "metadata": {
        "id": "btRXCDkc7txi"
      },
      "source": [
        ""
      ],
      "execution_count": null,
      "outputs": []
    },
    {
      "cell_type": "code",
      "metadata": {
        "id": "3el_PZIN7tyP"
      },
      "source": [
        ""
      ],
      "execution_count": null,
      "outputs": []
    },
    {
      "cell_type": "code",
      "metadata": {
        "id": "9_am88917ty5"
      },
      "source": [
        ""
      ],
      "execution_count": null,
      "outputs": []
    },
    {
      "cell_type": "code",
      "metadata": {
        "id": "o6aXPT2B7tzp"
      },
      "source": [
        ""
      ],
      "execution_count": null,
      "outputs": []
    },
    {
      "cell_type": "code",
      "metadata": {
        "id": "z1c3xvWS7t0Y"
      },
      "source": [
        ""
      ],
      "execution_count": null,
      "outputs": []
    },
    {
      "cell_type": "code",
      "metadata": {
        "id": "NBIZM9dW7t1F"
      },
      "source": [
        ""
      ],
      "execution_count": null,
      "outputs": []
    },
    {
      "cell_type": "code",
      "metadata": {
        "id": "Q-p1Shzc7t10"
      },
      "source": [
        ""
      ],
      "execution_count": null,
      "outputs": []
    },
    {
      "cell_type": "code",
      "metadata": {
        "id": "jqiDNZSj7t2h"
      },
      "source": [
        ""
      ],
      "execution_count": null,
      "outputs": []
    },
    {
      "cell_type": "code",
      "metadata": {
        "id": "8cv1TXcK7t3R"
      },
      "source": [
        ""
      ],
      "execution_count": null,
      "outputs": []
    },
    {
      "cell_type": "code",
      "metadata": {
        "id": "A8jJRQZ37t4D"
      },
      "source": [
        ""
      ],
      "execution_count": null,
      "outputs": []
    },
    {
      "cell_type": "code",
      "metadata": {
        "id": "PrbLPUzc7t4z"
      },
      "source": [
        ""
      ],
      "execution_count": null,
      "outputs": []
    },
    {
      "cell_type": "code",
      "metadata": {
        "id": "j_rYTM4a7t5i"
      },
      "source": [
        ""
      ],
      "execution_count": null,
      "outputs": []
    },
    {
      "cell_type": "code",
      "metadata": {
        "id": "byy1r3_I7t6Q"
      },
      "source": [
        ""
      ],
      "execution_count": null,
      "outputs": []
    },
    {
      "cell_type": "code",
      "metadata": {
        "id": "t-69tnCZ7t7A"
      },
      "source": [
        ""
      ],
      "execution_count": null,
      "outputs": []
    },
    {
      "cell_type": "code",
      "metadata": {
        "id": "BwIfJPLp7t72"
      },
      "source": [
        ""
      ],
      "execution_count": null,
      "outputs": []
    },
    {
      "cell_type": "code",
      "metadata": {
        "id": "1U1Yol3A7t8m"
      },
      "source": [
        ""
      ],
      "execution_count": null,
      "outputs": []
    },
    {
      "cell_type": "code",
      "metadata": {
        "id": "LcHK-M2U7t9W"
      },
      "source": [
        ""
      ],
      "execution_count": null,
      "outputs": []
    },
    {
      "cell_type": "code",
      "metadata": {
        "id": "m1N-1pAm7t-F"
      },
      "source": [
        ""
      ],
      "execution_count": null,
      "outputs": []
    },
    {
      "cell_type": "code",
      "metadata": {
        "id": "wPZ74imn7t-0"
      },
      "source": [
        ""
      ],
      "execution_count": null,
      "outputs": []
    },
    {
      "cell_type": "code",
      "metadata": {
        "id": "1kXxidBP7t_n"
      },
      "source": [
        ""
      ],
      "execution_count": null,
      "outputs": []
    },
    {
      "cell_type": "code",
      "metadata": {
        "id": "qqVRGdQ97uAX"
      },
      "source": [
        ""
      ],
      "execution_count": null,
      "outputs": []
    },
    {
      "cell_type": "code",
      "metadata": {
        "id": "nFbETLAm7uBG"
      },
      "source": [
        ""
      ],
      "execution_count": null,
      "outputs": []
    },
    {
      "cell_type": "code",
      "metadata": {
        "id": "_OwPGBnI7uB3"
      },
      "source": [
        ""
      ],
      "execution_count": null,
      "outputs": []
    },
    {
      "cell_type": "code",
      "metadata": {
        "id": "ybuqT6bi7uCp"
      },
      "source": [
        ""
      ],
      "execution_count": null,
      "outputs": []
    }
  ]
}